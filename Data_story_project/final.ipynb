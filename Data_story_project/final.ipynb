{
 "cells": [
  {
   "attachments": {},
   "cell_type": "markdown",
   "id": "58e8dfb5",
   "metadata": {},
   "source": [
    "# Informatievisualisatie: Data story project"
   ]
  },
  {
   "attachments": {},
   "cell_type": "markdown",
   "id": "33d4e03e",
   "metadata": {},
   "source": [
    "Universiteit van Amsterdam - Juni 2023 \n",
    "\n",
    "Jarno Balk: 14382385 \n",
    "\n",
    "Hamza Nur: 13978071\n",
    "\n",
    "Luca van Kessel: 14413744\n",
    "\n",
    "Iyoas Ghebreab: \n",
    "\n",
    "Onderwerp: Oorzaken criminaliteit\n"
   ]
  },
  {
   "attachments": {},
   "cell_type": "markdown",
   "id": "a95762ff",
   "metadata": {},
   "source": [
    "# _Oorzaken criminaliteit_"
   ]
  },
  {
   "attachments": {},
   "cell_type": "markdown",
   "id": "3c7b991f",
   "metadata": {},
   "source": [
    "# 1. Introductie\n",
    "In de afgelopen 20 jaar is er volgens verschillende rapporten van de Verenigde Naties een wereldwijde toename van criminaliteit.  De toename van criminaliteit vindt plaats op alle niveaus, van straatcriminaliteit tot georganiseerde misdaad (“World crime trends and emerging issues and responses in the field of crime prevention and criminal justice”, 2015). Criminaliteit heeft enorme impact op de individuele veiligheid van burgers in een land maar kan ook een heel land in de greep houden. In het jaar 2020 vond er in de criminaliteit een wereldwijde toename plaats van 0,75 procent. Toch is er een substantieel verschil in de soorten delicten die er gepleegd worden per werelddeel. Zuid-Amerika heeft veel te kampen met drugscriminaliteit terwijl Noord-Amerika veel te kampen heeft met wapengeweld in grote steden. Ieder jaar wordt er een crime index opgesteld hierin wordt is het aantal criminele activiteiten in een land berekend ten opzichte van het aantal inwoners. Figuur 1 bevat 10 landen wereldwijd en hierin is de crime index van het jaar 2020 berekend. Deze 10 landen zijn geselecteerd op inwonersaantal en op continent. Op de x-as bevinden zich de landen en op de y-as de waarden van de crime index."
   ]
  },
  {
   "cell_type": "code",
   "execution_count": 28,
   "id": "efaf3463",
   "metadata": {},
   "outputs": [
    {
     "data": {
      "application/vnd.plotly.v1+json": {
       "config": {
        "plotlyServerURL": "https://plot.ly"
       },
       "data": [
        {
         "type": "bar",
         "x": [
          "Papua New Guinea",
          "Brazil",
          "Nigeria",
          "Colombia",
          "Mexico",
          "Ethiopia",
          "United States",
          "India",
          "Australia",
          "China"
         ],
         "y": [
          80.04,
          68.31,
          63.27,
          54.94,
          53.31,
          49.23,
          47.7,
          44.42,
          41.67,
          31.18
         ]
        }
       ],
       "layout": {
        "template": {
         "data": {
          "bar": [
           {
            "error_x": {
             "color": "#2a3f5f"
            },
            "error_y": {
             "color": "#2a3f5f"
            },
            "marker": {
             "line": {
              "color": "#E5ECF6",
              "width": 0.5
             },
             "pattern": {
              "fillmode": "overlay",
              "size": 10,
              "solidity": 0.2
             }
            },
            "type": "bar"
           }
          ],
          "barpolar": [
           {
            "marker": {
             "line": {
              "color": "#E5ECF6",
              "width": 0.5
             },
             "pattern": {
              "fillmode": "overlay",
              "size": 10,
              "solidity": 0.2
             }
            },
            "type": "barpolar"
           }
          ],
          "carpet": [
           {
            "aaxis": {
             "endlinecolor": "#2a3f5f",
             "gridcolor": "white",
             "linecolor": "white",
             "minorgridcolor": "white",
             "startlinecolor": "#2a3f5f"
            },
            "baxis": {
             "endlinecolor": "#2a3f5f",
             "gridcolor": "white",
             "linecolor": "white",
             "minorgridcolor": "white",
             "startlinecolor": "#2a3f5f"
            },
            "type": "carpet"
           }
          ],
          "choropleth": [
           {
            "colorbar": {
             "outlinewidth": 0,
             "ticks": ""
            },
            "type": "choropleth"
           }
          ],
          "contour": [
           {
            "colorbar": {
             "outlinewidth": 0,
             "ticks": ""
            },
            "colorscale": [
             [
              0,
              "#0d0887"
             ],
             [
              0.1111111111111111,
              "#46039f"
             ],
             [
              0.2222222222222222,
              "#7201a8"
             ],
             [
              0.3333333333333333,
              "#9c179e"
             ],
             [
              0.4444444444444444,
              "#bd3786"
             ],
             [
              0.5555555555555556,
              "#d8576b"
             ],
             [
              0.6666666666666666,
              "#ed7953"
             ],
             [
              0.7777777777777778,
              "#fb9f3a"
             ],
             [
              0.8888888888888888,
              "#fdca26"
             ],
             [
              1,
              "#f0f921"
             ]
            ],
            "type": "contour"
           }
          ],
          "contourcarpet": [
           {
            "colorbar": {
             "outlinewidth": 0,
             "ticks": ""
            },
            "type": "contourcarpet"
           }
          ],
          "heatmap": [
           {
            "colorbar": {
             "outlinewidth": 0,
             "ticks": ""
            },
            "colorscale": [
             [
              0,
              "#0d0887"
             ],
             [
              0.1111111111111111,
              "#46039f"
             ],
             [
              0.2222222222222222,
              "#7201a8"
             ],
             [
              0.3333333333333333,
              "#9c179e"
             ],
             [
              0.4444444444444444,
              "#bd3786"
             ],
             [
              0.5555555555555556,
              "#d8576b"
             ],
             [
              0.6666666666666666,
              "#ed7953"
             ],
             [
              0.7777777777777778,
              "#fb9f3a"
             ],
             [
              0.8888888888888888,
              "#fdca26"
             ],
             [
              1,
              "#f0f921"
             ]
            ],
            "type": "heatmap"
           }
          ],
          "heatmapgl": [
           {
            "colorbar": {
             "outlinewidth": 0,
             "ticks": ""
            },
            "colorscale": [
             [
              0,
              "#0d0887"
             ],
             [
              0.1111111111111111,
              "#46039f"
             ],
             [
              0.2222222222222222,
              "#7201a8"
             ],
             [
              0.3333333333333333,
              "#9c179e"
             ],
             [
              0.4444444444444444,
              "#bd3786"
             ],
             [
              0.5555555555555556,
              "#d8576b"
             ],
             [
              0.6666666666666666,
              "#ed7953"
             ],
             [
              0.7777777777777778,
              "#fb9f3a"
             ],
             [
              0.8888888888888888,
              "#fdca26"
             ],
             [
              1,
              "#f0f921"
             ]
            ],
            "type": "heatmapgl"
           }
          ],
          "histogram": [
           {
            "marker": {
             "pattern": {
              "fillmode": "overlay",
              "size": 10,
              "solidity": 0.2
             }
            },
            "type": "histogram"
           }
          ],
          "histogram2d": [
           {
            "colorbar": {
             "outlinewidth": 0,
             "ticks": ""
            },
            "colorscale": [
             [
              0,
              "#0d0887"
             ],
             [
              0.1111111111111111,
              "#46039f"
             ],
             [
              0.2222222222222222,
              "#7201a8"
             ],
             [
              0.3333333333333333,
              "#9c179e"
             ],
             [
              0.4444444444444444,
              "#bd3786"
             ],
             [
              0.5555555555555556,
              "#d8576b"
             ],
             [
              0.6666666666666666,
              "#ed7953"
             ],
             [
              0.7777777777777778,
              "#fb9f3a"
             ],
             [
              0.8888888888888888,
              "#fdca26"
             ],
             [
              1,
              "#f0f921"
             ]
            ],
            "type": "histogram2d"
           }
          ],
          "histogram2dcontour": [
           {
            "colorbar": {
             "outlinewidth": 0,
             "ticks": ""
            },
            "colorscale": [
             [
              0,
              "#0d0887"
             ],
             [
              0.1111111111111111,
              "#46039f"
             ],
             [
              0.2222222222222222,
              "#7201a8"
             ],
             [
              0.3333333333333333,
              "#9c179e"
             ],
             [
              0.4444444444444444,
              "#bd3786"
             ],
             [
              0.5555555555555556,
              "#d8576b"
             ],
             [
              0.6666666666666666,
              "#ed7953"
             ],
             [
              0.7777777777777778,
              "#fb9f3a"
             ],
             [
              0.8888888888888888,
              "#fdca26"
             ],
             [
              1,
              "#f0f921"
             ]
            ],
            "type": "histogram2dcontour"
           }
          ],
          "mesh3d": [
           {
            "colorbar": {
             "outlinewidth": 0,
             "ticks": ""
            },
            "type": "mesh3d"
           }
          ],
          "parcoords": [
           {
            "line": {
             "colorbar": {
              "outlinewidth": 0,
              "ticks": ""
             }
            },
            "type": "parcoords"
           }
          ],
          "pie": [
           {
            "automargin": true,
            "type": "pie"
           }
          ],
          "scatter": [
           {
            "fillpattern": {
             "fillmode": "overlay",
             "size": 10,
             "solidity": 0.2
            },
            "type": "scatter"
           }
          ],
          "scatter3d": [
           {
            "line": {
             "colorbar": {
              "outlinewidth": 0,
              "ticks": ""
             }
            },
            "marker": {
             "colorbar": {
              "outlinewidth": 0,
              "ticks": ""
             }
            },
            "type": "scatter3d"
           }
          ],
          "scattercarpet": [
           {
            "marker": {
             "colorbar": {
              "outlinewidth": 0,
              "ticks": ""
             }
            },
            "type": "scattercarpet"
           }
          ],
          "scattergeo": [
           {
            "marker": {
             "colorbar": {
              "outlinewidth": 0,
              "ticks": ""
             }
            },
            "type": "scattergeo"
           }
          ],
          "scattergl": [
           {
            "marker": {
             "colorbar": {
              "outlinewidth": 0,
              "ticks": ""
             }
            },
            "type": "scattergl"
           }
          ],
          "scattermapbox": [
           {
            "marker": {
             "colorbar": {
              "outlinewidth": 0,
              "ticks": ""
             }
            },
            "type": "scattermapbox"
           }
          ],
          "scatterpolar": [
           {
            "marker": {
             "colorbar": {
              "outlinewidth": 0,
              "ticks": ""
             }
            },
            "type": "scatterpolar"
           }
          ],
          "scatterpolargl": [
           {
            "marker": {
             "colorbar": {
              "outlinewidth": 0,
              "ticks": ""
             }
            },
            "type": "scatterpolargl"
           }
          ],
          "scatterternary": [
           {
            "marker": {
             "colorbar": {
              "outlinewidth": 0,
              "ticks": ""
             }
            },
            "type": "scatterternary"
           }
          ],
          "surface": [
           {
            "colorbar": {
             "outlinewidth": 0,
             "ticks": ""
            },
            "colorscale": [
             [
              0,
              "#0d0887"
             ],
             [
              0.1111111111111111,
              "#46039f"
             ],
             [
              0.2222222222222222,
              "#7201a8"
             ],
             [
              0.3333333333333333,
              "#9c179e"
             ],
             [
              0.4444444444444444,
              "#bd3786"
             ],
             [
              0.5555555555555556,
              "#d8576b"
             ],
             [
              0.6666666666666666,
              "#ed7953"
             ],
             [
              0.7777777777777778,
              "#fb9f3a"
             ],
             [
              0.8888888888888888,
              "#fdca26"
             ],
             [
              1,
              "#f0f921"
             ]
            ],
            "type": "surface"
           }
          ],
          "table": [
           {
            "cells": {
             "fill": {
              "color": "#EBF0F8"
             },
             "line": {
              "color": "white"
             }
            },
            "header": {
             "fill": {
              "color": "#C8D4E3"
             },
             "line": {
              "color": "white"
             }
            },
            "type": "table"
           }
          ]
         },
         "layout": {
          "annotationdefaults": {
           "arrowcolor": "#2a3f5f",
           "arrowhead": 0,
           "arrowwidth": 1
          },
          "autotypenumbers": "strict",
          "coloraxis": {
           "colorbar": {
            "outlinewidth": 0,
            "ticks": ""
           }
          },
          "colorscale": {
           "diverging": [
            [
             0,
             "#8e0152"
            ],
            [
             0.1,
             "#c51b7d"
            ],
            [
             0.2,
             "#de77ae"
            ],
            [
             0.3,
             "#f1b6da"
            ],
            [
             0.4,
             "#fde0ef"
            ],
            [
             0.5,
             "#f7f7f7"
            ],
            [
             0.6,
             "#e6f5d0"
            ],
            [
             0.7,
             "#b8e186"
            ],
            [
             0.8,
             "#7fbc41"
            ],
            [
             0.9,
             "#4d9221"
            ],
            [
             1,
             "#276419"
            ]
           ],
           "sequential": [
            [
             0,
             "#0d0887"
            ],
            [
             0.1111111111111111,
             "#46039f"
            ],
            [
             0.2222222222222222,
             "#7201a8"
            ],
            [
             0.3333333333333333,
             "#9c179e"
            ],
            [
             0.4444444444444444,
             "#bd3786"
            ],
            [
             0.5555555555555556,
             "#d8576b"
            ],
            [
             0.6666666666666666,
             "#ed7953"
            ],
            [
             0.7777777777777778,
             "#fb9f3a"
            ],
            [
             0.8888888888888888,
             "#fdca26"
            ],
            [
             1,
             "#f0f921"
            ]
           ],
           "sequentialminus": [
            [
             0,
             "#0d0887"
            ],
            [
             0.1111111111111111,
             "#46039f"
            ],
            [
             0.2222222222222222,
             "#7201a8"
            ],
            [
             0.3333333333333333,
             "#9c179e"
            ],
            [
             0.4444444444444444,
             "#bd3786"
            ],
            [
             0.5555555555555556,
             "#d8576b"
            ],
            [
             0.6666666666666666,
             "#ed7953"
            ],
            [
             0.7777777777777778,
             "#fb9f3a"
            ],
            [
             0.8888888888888888,
             "#fdca26"
            ],
            [
             1,
             "#f0f921"
            ]
           ]
          },
          "colorway": [
           "#636efa",
           "#EF553B",
           "#00cc96",
           "#ab63fa",
           "#FFA15A",
           "#19d3f3",
           "#FF6692",
           "#B6E880",
           "#FF97FF",
           "#FECB52"
          ],
          "font": {
           "color": "#2a3f5f"
          },
          "geo": {
           "bgcolor": "white",
           "lakecolor": "white",
           "landcolor": "#E5ECF6",
           "showlakes": true,
           "showland": true,
           "subunitcolor": "white"
          },
          "hoverlabel": {
           "align": "left"
          },
          "hovermode": "closest",
          "mapbox": {
           "style": "light"
          },
          "paper_bgcolor": "white",
          "plot_bgcolor": "#E5ECF6",
          "polar": {
           "angularaxis": {
            "gridcolor": "white",
            "linecolor": "white",
            "ticks": ""
           },
           "bgcolor": "#E5ECF6",
           "radialaxis": {
            "gridcolor": "white",
            "linecolor": "white",
            "ticks": ""
           }
          },
          "scene": {
           "xaxis": {
            "backgroundcolor": "#E5ECF6",
            "gridcolor": "white",
            "gridwidth": 2,
            "linecolor": "white",
            "showbackground": true,
            "ticks": "",
            "zerolinecolor": "white"
           },
           "yaxis": {
            "backgroundcolor": "#E5ECF6",
            "gridcolor": "white",
            "gridwidth": 2,
            "linecolor": "white",
            "showbackground": true,
            "ticks": "",
            "zerolinecolor": "white"
           },
           "zaxis": {
            "backgroundcolor": "#E5ECF6",
            "gridcolor": "white",
            "gridwidth": 2,
            "linecolor": "white",
            "showbackground": true,
            "ticks": "",
            "zerolinecolor": "white"
           }
          },
          "shapedefaults": {
           "line": {
            "color": "#2a3f5f"
           }
          },
          "ternary": {
           "aaxis": {
            "gridcolor": "white",
            "linecolor": "white",
            "ticks": ""
           },
           "baxis": {
            "gridcolor": "white",
            "linecolor": "white",
            "ticks": ""
           },
           "bgcolor": "#E5ECF6",
           "caxis": {
            "gridcolor": "white",
            "linecolor": "white",
            "ticks": ""
           }
          },
          "title": {
           "x": 0.05
          },
          "xaxis": {
           "automargin": true,
           "gridcolor": "white",
           "linecolor": "white",
           "ticks": "",
           "title": {
            "standoff": 15
           },
           "zerolinecolor": "white",
           "zerolinewidth": 2
          },
          "yaxis": {
           "automargin": true,
           "gridcolor": "white",
           "linecolor": "white",
           "ticks": "",
           "title": {
            "standoff": 15
           },
           "zerolinecolor": "white",
           "zerolinewidth": 2
          }
         }
        },
        "title": {
         "text": "Figuur 1: Crime Index"
        },
        "xaxis": {
         "tickangle": -45,
         "title": {
          "text": "Country"
         }
        },
        "yaxis": {
         "title": {
          "text": "Crime Index"
         }
        }
       }
      }
     },
     "metadata": {},
     "output_type": "display_data"
    }
   ],
   "source": [
    "import pandas as pd\n",
    "import plotly.graph_objects as go\n",
    "\n",
    "# Read the CSV file\n",
    "data = pd.read_csv('crime_index_by_country (Introductie).csv')\n",
    "\n",
    "# Get the column names containing the data for each chart\n",
    "chart_columns = data.columns[1:]\n",
    "\n",
    "# Generate bar charts for each column\n",
    "for column in chart_columns:\n",
    "    # Extract country names from the 'Country' column\n",
    "    countries = data['Country'].tolist()\n",
    "\n",
    "    # Get the values for the current column\n",
    "    values = data[column].tolist()\n",
    "\n",
    "    # Create a bar chart using Plotly\n",
    "    fig = go.Figure(data=[go.Bar(x=countries, y=values)])\n",
    "    fig.update_layout(xaxis_tickangle=-45, xaxis_title='Country', yaxis_title='Crime Index', title=f'Figuur 1: {column}')\n",
    "    fig.show()\n"
   ]
  },
  {
   "attachments": {},
   "cell_type": "markdown",
   "id": "af1fac0c",
   "metadata": {},
   "source": [
    "Er zijn verschillende oorzaken die invloed kunnen hebben op de criminaliteit zoals maatschappelijke en economische redenen. Ongelijkheid, armoede, werkloosheid, gebrek aan onderwijskansen, sociale ongelijkheid en gebrekkige toegang tot hulp kunnen allemaal bijdragen aan de toename van criminaliteit. De Human Development Index (Hierna: HDI) berekent de mate waarin een land op verschillende factoren is ontwikkeld zoals onderwijs en kansengelijkheid. De HDI bevat een getal tussen de 0 en 1000 waarbij 0 'zwak ontwikkeld' is en 1000 'zeer hoog ontwikkeld' is. Figuur 2 bevat 10 landen wereldwijd hierin is de HDI van het jaar 2020 berekend. Deze 10 landen zijn geselecteerd op inwonersaantal en op continent. Op de x-as bevinden zich de landen en op de y-as de waarden van de HDI."
   ]
  },
  {
   "cell_type": "code",
   "execution_count": 29,
   "id": "e08071ac",
   "metadata": {},
   "outputs": [
    {
     "data": {
      "application/vnd.plotly.v1+json": {
       "config": {
        "plotlyServerURL": "https://plot.ly"
       },
       "data": [
        {
         "alignmentgroup": "True",
         "hovertemplate": "Country=%{x}<br>Human Development Index=%{y}<extra></extra>",
         "legendgroup": "",
         "marker": {
          "color": "#636efa",
          "pattern": {
           "shape": ""
          }
         },
         "name": "",
         "offsetgroup": "",
         "orientation": "v",
         "showlegend": false,
         "textposition": "auto",
         "type": "bar",
         "x": [
          "Nigeria",
          "Ethiopia",
          "China",
          "India",
          "Australia",
          "Papua New Guinea",
          "United States",
          "Mexico",
          "Brasil",
          "Columbia"
         ],
         "xaxis": "x",
         "y": [
          535,
          498,
          764,
          642,
          947,
          560,
          920,
          756,
          758,
          756
         ],
         "yaxis": "y"
        }
       ],
       "layout": {
        "barmode": "relative",
        "legend": {
         "tracegroupgap": 0
        },
        "template": {
         "data": {
          "bar": [
           {
            "error_x": {
             "color": "#2a3f5f"
            },
            "error_y": {
             "color": "#2a3f5f"
            },
            "marker": {
             "line": {
              "color": "#E5ECF6",
              "width": 0.5
             },
             "pattern": {
              "fillmode": "overlay",
              "size": 10,
              "solidity": 0.2
             }
            },
            "type": "bar"
           }
          ],
          "barpolar": [
           {
            "marker": {
             "line": {
              "color": "#E5ECF6",
              "width": 0.5
             },
             "pattern": {
              "fillmode": "overlay",
              "size": 10,
              "solidity": 0.2
             }
            },
            "type": "barpolar"
           }
          ],
          "carpet": [
           {
            "aaxis": {
             "endlinecolor": "#2a3f5f",
             "gridcolor": "white",
             "linecolor": "white",
             "minorgridcolor": "white",
             "startlinecolor": "#2a3f5f"
            },
            "baxis": {
             "endlinecolor": "#2a3f5f",
             "gridcolor": "white",
             "linecolor": "white",
             "minorgridcolor": "white",
             "startlinecolor": "#2a3f5f"
            },
            "type": "carpet"
           }
          ],
          "choropleth": [
           {
            "colorbar": {
             "outlinewidth": 0,
             "ticks": ""
            },
            "type": "choropleth"
           }
          ],
          "contour": [
           {
            "colorbar": {
             "outlinewidth": 0,
             "ticks": ""
            },
            "colorscale": [
             [
              0,
              "#0d0887"
             ],
             [
              0.1111111111111111,
              "#46039f"
             ],
             [
              0.2222222222222222,
              "#7201a8"
             ],
             [
              0.3333333333333333,
              "#9c179e"
             ],
             [
              0.4444444444444444,
              "#bd3786"
             ],
             [
              0.5555555555555556,
              "#d8576b"
             ],
             [
              0.6666666666666666,
              "#ed7953"
             ],
             [
              0.7777777777777778,
              "#fb9f3a"
             ],
             [
              0.8888888888888888,
              "#fdca26"
             ],
             [
              1,
              "#f0f921"
             ]
            ],
            "type": "contour"
           }
          ],
          "contourcarpet": [
           {
            "colorbar": {
             "outlinewidth": 0,
             "ticks": ""
            },
            "type": "contourcarpet"
           }
          ],
          "heatmap": [
           {
            "colorbar": {
             "outlinewidth": 0,
             "ticks": ""
            },
            "colorscale": [
             [
              0,
              "#0d0887"
             ],
             [
              0.1111111111111111,
              "#46039f"
             ],
             [
              0.2222222222222222,
              "#7201a8"
             ],
             [
              0.3333333333333333,
              "#9c179e"
             ],
             [
              0.4444444444444444,
              "#bd3786"
             ],
             [
              0.5555555555555556,
              "#d8576b"
             ],
             [
              0.6666666666666666,
              "#ed7953"
             ],
             [
              0.7777777777777778,
              "#fb9f3a"
             ],
             [
              0.8888888888888888,
              "#fdca26"
             ],
             [
              1,
              "#f0f921"
             ]
            ],
            "type": "heatmap"
           }
          ],
          "heatmapgl": [
           {
            "colorbar": {
             "outlinewidth": 0,
             "ticks": ""
            },
            "colorscale": [
             [
              0,
              "#0d0887"
             ],
             [
              0.1111111111111111,
              "#46039f"
             ],
             [
              0.2222222222222222,
              "#7201a8"
             ],
             [
              0.3333333333333333,
              "#9c179e"
             ],
             [
              0.4444444444444444,
              "#bd3786"
             ],
             [
              0.5555555555555556,
              "#d8576b"
             ],
             [
              0.6666666666666666,
              "#ed7953"
             ],
             [
              0.7777777777777778,
              "#fb9f3a"
             ],
             [
              0.8888888888888888,
              "#fdca26"
             ],
             [
              1,
              "#f0f921"
             ]
            ],
            "type": "heatmapgl"
           }
          ],
          "histogram": [
           {
            "marker": {
             "pattern": {
              "fillmode": "overlay",
              "size": 10,
              "solidity": 0.2
             }
            },
            "type": "histogram"
           }
          ],
          "histogram2d": [
           {
            "colorbar": {
             "outlinewidth": 0,
             "ticks": ""
            },
            "colorscale": [
             [
              0,
              "#0d0887"
             ],
             [
              0.1111111111111111,
              "#46039f"
             ],
             [
              0.2222222222222222,
              "#7201a8"
             ],
             [
              0.3333333333333333,
              "#9c179e"
             ],
             [
              0.4444444444444444,
              "#bd3786"
             ],
             [
              0.5555555555555556,
              "#d8576b"
             ],
             [
              0.6666666666666666,
              "#ed7953"
             ],
             [
              0.7777777777777778,
              "#fb9f3a"
             ],
             [
              0.8888888888888888,
              "#fdca26"
             ],
             [
              1,
              "#f0f921"
             ]
            ],
            "type": "histogram2d"
           }
          ],
          "histogram2dcontour": [
           {
            "colorbar": {
             "outlinewidth": 0,
             "ticks": ""
            },
            "colorscale": [
             [
              0,
              "#0d0887"
             ],
             [
              0.1111111111111111,
              "#46039f"
             ],
             [
              0.2222222222222222,
              "#7201a8"
             ],
             [
              0.3333333333333333,
              "#9c179e"
             ],
             [
              0.4444444444444444,
              "#bd3786"
             ],
             [
              0.5555555555555556,
              "#d8576b"
             ],
             [
              0.6666666666666666,
              "#ed7953"
             ],
             [
              0.7777777777777778,
              "#fb9f3a"
             ],
             [
              0.8888888888888888,
              "#fdca26"
             ],
             [
              1,
              "#f0f921"
             ]
            ],
            "type": "histogram2dcontour"
           }
          ],
          "mesh3d": [
           {
            "colorbar": {
             "outlinewidth": 0,
             "ticks": ""
            },
            "type": "mesh3d"
           }
          ],
          "parcoords": [
           {
            "line": {
             "colorbar": {
              "outlinewidth": 0,
              "ticks": ""
             }
            },
            "type": "parcoords"
           }
          ],
          "pie": [
           {
            "automargin": true,
            "type": "pie"
           }
          ],
          "scatter": [
           {
            "fillpattern": {
             "fillmode": "overlay",
             "size": 10,
             "solidity": 0.2
            },
            "type": "scatter"
           }
          ],
          "scatter3d": [
           {
            "line": {
             "colorbar": {
              "outlinewidth": 0,
              "ticks": ""
             }
            },
            "marker": {
             "colorbar": {
              "outlinewidth": 0,
              "ticks": ""
             }
            },
            "type": "scatter3d"
           }
          ],
          "scattercarpet": [
           {
            "marker": {
             "colorbar": {
              "outlinewidth": 0,
              "ticks": ""
             }
            },
            "type": "scattercarpet"
           }
          ],
          "scattergeo": [
           {
            "marker": {
             "colorbar": {
              "outlinewidth": 0,
              "ticks": ""
             }
            },
            "type": "scattergeo"
           }
          ],
          "scattergl": [
           {
            "marker": {
             "colorbar": {
              "outlinewidth": 0,
              "ticks": ""
             }
            },
            "type": "scattergl"
           }
          ],
          "scattermapbox": [
           {
            "marker": {
             "colorbar": {
              "outlinewidth": 0,
              "ticks": ""
             }
            },
            "type": "scattermapbox"
           }
          ],
          "scatterpolar": [
           {
            "marker": {
             "colorbar": {
              "outlinewidth": 0,
              "ticks": ""
             }
            },
            "type": "scatterpolar"
           }
          ],
          "scatterpolargl": [
           {
            "marker": {
             "colorbar": {
              "outlinewidth": 0,
              "ticks": ""
             }
            },
            "type": "scatterpolargl"
           }
          ],
          "scatterternary": [
           {
            "marker": {
             "colorbar": {
              "outlinewidth": 0,
              "ticks": ""
             }
            },
            "type": "scatterternary"
           }
          ],
          "surface": [
           {
            "colorbar": {
             "outlinewidth": 0,
             "ticks": ""
            },
            "colorscale": [
             [
              0,
              "#0d0887"
             ],
             [
              0.1111111111111111,
              "#46039f"
             ],
             [
              0.2222222222222222,
              "#7201a8"
             ],
             [
              0.3333333333333333,
              "#9c179e"
             ],
             [
              0.4444444444444444,
              "#bd3786"
             ],
             [
              0.5555555555555556,
              "#d8576b"
             ],
             [
              0.6666666666666666,
              "#ed7953"
             ],
             [
              0.7777777777777778,
              "#fb9f3a"
             ],
             [
              0.8888888888888888,
              "#fdca26"
             ],
             [
              1,
              "#f0f921"
             ]
            ],
            "type": "surface"
           }
          ],
          "table": [
           {
            "cells": {
             "fill": {
              "color": "#EBF0F8"
             },
             "line": {
              "color": "white"
             }
            },
            "header": {
             "fill": {
              "color": "#C8D4E3"
             },
             "line": {
              "color": "white"
             }
            },
            "type": "table"
           }
          ]
         },
         "layout": {
          "annotationdefaults": {
           "arrowcolor": "#2a3f5f",
           "arrowhead": 0,
           "arrowwidth": 1
          },
          "autotypenumbers": "strict",
          "coloraxis": {
           "colorbar": {
            "outlinewidth": 0,
            "ticks": ""
           }
          },
          "colorscale": {
           "diverging": [
            [
             0,
             "#8e0152"
            ],
            [
             0.1,
             "#c51b7d"
            ],
            [
             0.2,
             "#de77ae"
            ],
            [
             0.3,
             "#f1b6da"
            ],
            [
             0.4,
             "#fde0ef"
            ],
            [
             0.5,
             "#f7f7f7"
            ],
            [
             0.6,
             "#e6f5d0"
            ],
            [
             0.7,
             "#b8e186"
            ],
            [
             0.8,
             "#7fbc41"
            ],
            [
             0.9,
             "#4d9221"
            ],
            [
             1,
             "#276419"
            ]
           ],
           "sequential": [
            [
             0,
             "#0d0887"
            ],
            [
             0.1111111111111111,
             "#46039f"
            ],
            [
             0.2222222222222222,
             "#7201a8"
            ],
            [
             0.3333333333333333,
             "#9c179e"
            ],
            [
             0.4444444444444444,
             "#bd3786"
            ],
            [
             0.5555555555555556,
             "#d8576b"
            ],
            [
             0.6666666666666666,
             "#ed7953"
            ],
            [
             0.7777777777777778,
             "#fb9f3a"
            ],
            [
             0.8888888888888888,
             "#fdca26"
            ],
            [
             1,
             "#f0f921"
            ]
           ],
           "sequentialminus": [
            [
             0,
             "#0d0887"
            ],
            [
             0.1111111111111111,
             "#46039f"
            ],
            [
             0.2222222222222222,
             "#7201a8"
            ],
            [
             0.3333333333333333,
             "#9c179e"
            ],
            [
             0.4444444444444444,
             "#bd3786"
            ],
            [
             0.5555555555555556,
             "#d8576b"
            ],
            [
             0.6666666666666666,
             "#ed7953"
            ],
            [
             0.7777777777777778,
             "#fb9f3a"
            ],
            [
             0.8888888888888888,
             "#fdca26"
            ],
            [
             1,
             "#f0f921"
            ]
           ]
          },
          "colorway": [
           "#636efa",
           "#EF553B",
           "#00cc96",
           "#ab63fa",
           "#FFA15A",
           "#19d3f3",
           "#FF6692",
           "#B6E880",
           "#FF97FF",
           "#FECB52"
          ],
          "font": {
           "color": "#2a3f5f"
          },
          "geo": {
           "bgcolor": "white",
           "lakecolor": "white",
           "landcolor": "#E5ECF6",
           "showlakes": true,
           "showland": true,
           "subunitcolor": "white"
          },
          "hoverlabel": {
           "align": "left"
          },
          "hovermode": "closest",
          "mapbox": {
           "style": "light"
          },
          "paper_bgcolor": "white",
          "plot_bgcolor": "#E5ECF6",
          "polar": {
           "angularaxis": {
            "gridcolor": "white",
            "linecolor": "white",
            "ticks": ""
           },
           "bgcolor": "#E5ECF6",
           "radialaxis": {
            "gridcolor": "white",
            "linecolor": "white",
            "ticks": ""
           }
          },
          "scene": {
           "xaxis": {
            "backgroundcolor": "#E5ECF6",
            "gridcolor": "white",
            "gridwidth": 2,
            "linecolor": "white",
            "showbackground": true,
            "ticks": "",
            "zerolinecolor": "white"
           },
           "yaxis": {
            "backgroundcolor": "#E5ECF6",
            "gridcolor": "white",
            "gridwidth": 2,
            "linecolor": "white",
            "showbackground": true,
            "ticks": "",
            "zerolinecolor": "white"
           },
           "zaxis": {
            "backgroundcolor": "#E5ECF6",
            "gridcolor": "white",
            "gridwidth": 2,
            "linecolor": "white",
            "showbackground": true,
            "ticks": "",
            "zerolinecolor": "white"
           }
          },
          "shapedefaults": {
           "line": {
            "color": "#2a3f5f"
           }
          },
          "ternary": {
           "aaxis": {
            "gridcolor": "white",
            "linecolor": "white",
            "ticks": ""
           },
           "baxis": {
            "gridcolor": "white",
            "linecolor": "white",
            "ticks": ""
           },
           "bgcolor": "#E5ECF6",
           "caxis": {
            "gridcolor": "white",
            "linecolor": "white",
            "ticks": ""
           }
          },
          "title": {
           "x": 0.05
          },
          "xaxis": {
           "automargin": true,
           "gridcolor": "white",
           "linecolor": "white",
           "ticks": "",
           "title": {
            "standoff": 15
           },
           "zerolinecolor": "white",
           "zerolinewidth": 2
          },
          "yaxis": {
           "automargin": true,
           "gridcolor": "white",
           "linecolor": "white",
           "ticks": "",
           "title": {
            "standoff": 15
           },
           "zerolinecolor": "white",
           "zerolinewidth": 2
          }
         }
        },
        "title": {
         "text": "Figuur 2: Human Development Index (2020)"
        },
        "xaxis": {
         "anchor": "y",
         "domain": [
          0,
          1
         ],
         "tickangle": -45,
         "title": {
          "text": "Country"
         }
        },
        "yaxis": {
         "anchor": "x",
         "domain": [
          0,
          1
         ],
         "title": {
          "text": "Human Development Index"
         }
        }
       }
      }
     },
     "metadata": {},
     "output_type": "display_data"
    }
   ],
   "source": [
    "import pandas as pd\n",
    "import plotly.express as px\n",
    "\n",
    "# Read the CSV file\n",
    "data = pd.read_csv('HDI(introduction).csv')\n",
    "\n",
    "# Get the column names containing the data for each chart\n",
    "chart_columns = data.columns[1:]\n",
    "\n",
    "# Generate bar charts for each column\n",
    "for column in chart_columns:\n",
    "    # Extract country names from the 'Country' column\n",
    "    countries = data['Country'].tolist()\n",
    "\n",
    "    # Get the values for the current column\n",
    "    values = data[column].tolist()\n",
    "\n",
    "    # Create a bar chart using Plotly\n",
    "    fig = px.bar(x=countries, y=values, labels={'x': 'Country', 'y': 'Human Development Index'}, title=f'Figuur 2: {column}')\n",
    "    fig.update_layout(xaxis_tickangle=-45)\n",
    "    fig.show()\n"
   ]
  },
  {
   "attachments": {},
   "cell_type": "markdown",
   "id": "f7a18c35",
   "metadata": {},
   "source": [
    "In dit artikel zullen twee perspectieven aan bod komen. Ten eerste een sociaal-maatschappelijk perspectief dat stelt dat criminaliteit wordt veroorzaakt door verschillen in onderwijs en levensverwachting. Ten tweede een economisch perspectief dat stelt dat de welvaart van een land en haar inwoners de hoofdoorzaak is. Beide perspectieven zullen in dit artikel aan de hand van de HDI en de crime index worden gevisualiseerd.  "
   ]
  },
  {
   "attachments": {},
   "cell_type": "markdown",
   "id": "b1b94d72",
   "metadata": {},
   "source": [
    "# 2. Datasets en voorbereiding"
   ]
  },
  {
   "attachments": {},
   "cell_type": "markdown",
   "id": "bfce5ac7",
   "metadata": {},
   "source": [
    "Om de verschillende verbanden te analyseren, is er gebruik gemaakt van twee datasets namelijk de 'Crime Index' en de 'HDI'. Beide datasets zijn opgeslagen in verschillende CSV-bestanden.\n",
    "\n",
    "De 'Crime Index' dataset bevat informatie over criminaliteit en veiligheid in een land. De kolom 'Country' vermeldt de namen van verschillende landen. De variabele 'Crime Index' kwantificeert het niveau van criminaliteit in elk land, waarbij hogere waarden duiden op hogere criminaliteitscijfers. De 'Safety Index' vertegenwoordigt het veiligheidsniveau in elk land, waarbij hogere waarden duiden op veiligere omgevingen. Na het inlezen van het CSV-bestand met behulp van de pandas library, zijn de relevante variabelen uit de dataset geselecteerd. \n",
    " \n",
    "Om het verband tussen bijvoorbeeld levensverwachting en criminaliteit te analyseren, is er gebruik gemaakt van twee datasets. De 'Crime Index' dataset bevat informatie over de criminaliteit in verschillende landen. Deze dataset bevat de variabel 'Country', die de naam van elk land vertegenwoordigt, en 'Crime Index', die het niveau van criminaliteit in elk land kwantificeert.\n",
    "\n",
    "Hieronder bevindt zich de 'dataframe head' van de crime dataset. Dit is een greep uit de dataset en geeft een beeld van hoe de dataset is opgebouwd."
   ]
  },
  {
   "cell_type": "code",
   "execution_count": 30,
   "id": "375d8c8e",
   "metadata": {},
   "outputs": [
    {
     "name": "stdout",
     "output_type": "stream",
     "text": [
      "            Country  Crime Index  Safety Index\n",
      "0         Venezuela        84.36         15.64\n",
      "1  Papua New Guinea        80.04         19.96\n",
      "2      South Africa        77.29         22.71\n",
      "3       Afghanistan        76.97         23.03\n",
      "4          Honduras        76.65         23.35\n"
     ]
    }
   ],
   "source": [
    "import pandas as pd\n",
    "\n",
    "# Read the CSV file\n",
    "filename = 'crime_index_by_country.csv'  # Replace with the actual file name or file path\n",
    "data = pd.read_csv(filename)\n",
    "\n",
    "# Display the dataframe's head\n",
    "print(data.head())\n"
   ]
  },
  {
   "attachments": {},
   "cell_type": "markdown",
   "id": "f7b7bf4c",
   "metadata": {},
   "source": [
    "De tweede dataset is de 'Human Development Index', de HDI bevat veel gegevens over de menselijke ontwikkeling in een land, waaronder levensverwachting en onderwijsjaren. De HDI bevat een getal tussen 0 en 1000. Hoe verder een land is ontwikkeld, hoe dichter het cijfer bij 1000 komt. \n",
    "\n",
    "Om het verband tussen levensverwachting en criminaliteit te analyseren, zijn de relevante gegevens uit beide datasets geselecteerd. De variabelen 'Country' en 'Crime Index' zijn uit de 'Crime Index' dataset geselecteerd, evenals 'Country' en 'Life Expectancy at Birth (2020)' uit de HDI dataset. Vervolgens zijn de datasets samengevoegd op basis van de overeenkomstige landen. Voor het verband tussen criminaliteit en onderwijsjaren is er gebruik gemaakt van de variabelen 'Mean Years of Schooling (2020)' en 'Crime Index'. Door middel van de 'Crime Index' dataset' en 'HDI' dataset wordt het verbanden tussen criminaliteit, bnp per hoofd en inkomensongelijkheid aangetoond. Deze variabelen zijn terug te vinden in de HDI dataset. Om het verband tussen de verschillende variabelen te bepalen is ook de correlatiecoëfficiënt berekend. \n",
    " \n",
    "Hieronder bevindt zich de 'dataframe head' van de HDI dataset. Dit is een greep uit de dataset en geeft een beeld van hoe de dataset is opgebouwd. De HDI dataset is een grote dataset en daarom is er hieronder een weergave van 10 kolommen."
   ]
  },
  {
   "cell_type": "code",
   "execution_count": 31,
   "id": "74ad8381",
   "metadata": {},
   "outputs": [
    {
     "name": "stdout",
     "output_type": "stream",
     "text": [
      "  ISO3               Country Human Development Groups UNDP Developing Regions  \\\n",
      "0  AFG           Afghanistan                      Low                      SA   \n",
      "1  AGO                Angola                   Medium                     SSA   \n",
      "2  ALB               Albania                     High                     ECA   \n",
      "3  AND               Andorra                Very High                     NaN   \n",
      "4  ARE  United Arab Emirates                Very High                      AS   \n",
      "\n",
      "   HDI Rank (2021)  Human Development Index (1990)  \\\n",
      "0            180.0                           0.273   \n",
      "1            148.0                             NaN   \n",
      "2             67.0                           0.647   \n",
      "3             40.0                             NaN   \n",
      "4             26.0                           0.728   \n",
      "\n",
      "   Human Development Index (1991)  Human Development Index (1992)  \\\n",
      "0                           0.279                           0.287   \n",
      "1                             NaN                             NaN   \n",
      "2                           0.629                           0.614   \n",
      "3                             NaN                             NaN   \n",
      "4                           0.739                           0.742   \n",
      "\n",
      "   Human Development Index (1993)  Human Development Index (1994)  \n",
      "0                           0.297                           0.292  \n",
      "1                             NaN                             NaN  \n",
      "2                           0.617                           0.624  \n",
      "3                             NaN                             NaN  \n",
      "4                           0.748                           0.755  \n"
     ]
    }
   ],
   "source": [
    "import pandas as pd\n",
    "\n",
    "# Read the CSV file\n",
    "data = pd.read_csv('Human Development Index - Full.csv')\n",
    "\n",
    "# Display the dataframe head for the first 10 columns\n",
    "columns_to_display = data.columns[:10]\n",
    "head_data = data[columns_to_display].head()\n",
    "print(head_data)\n",
    "\n"
   ]
  },
  {
   "attachments": {},
   "cell_type": "markdown",
   "id": "33876fb3",
   "metadata": {},
   "source": [
    "# 3. Perspectieven\n",
    "# 3.1 Sociaal-maatschappelijk\n"
   ]
  },
  {
   "attachments": {},
   "cell_type": "markdown",
   "id": "e6e8bd22",
   "metadata": {},
   "source": [
    "**3.1.1 De rol van onderwijs in de criminaliteit**\n",
    "\n",
    "Uit vele onderzoeken is gebleken dat onderwijs een belangrijke rol speelt bij het bestrijden van criminaliteit.  Zo ook uit een onderzoek verricht door de Universiteit Maastricht in samenwerking met de Universiteit van Amsterdam (Groot & Van Den Brink, 2010). Onderwijs heeft een belangrijke invloed op het levenspatroon van (jonge) mensen. Uit het onderzoek is gebleken dat de kans op criminaliteit lager is bij landen die goed investeren in onderwijs. Ook is gebleken dat goed onderwijs ervoor zorgt dat naar mate het aantal jaar dat (jonge) mensen naar school gaan toeneemt, het aantal criminele handelingen zoals fraude, overvallen, vandalisme en bedreigingen afneemt. Daarnaast blijkt hoe hoger mensen opgeleid zijn hoe meer bewust ze zijn van effecten van criminaliteit. Figuur 3 bevat twee variabelen namelijk het gemiddeld aantal onderwijsjaren in een land en de crime index van het land. "
   ]
  },
  {
   "cell_type": "code",
   "execution_count": 32,
   "id": "44efd39d",
   "metadata": {},
   "outputs": [
    {
     "data": {
      "application/vnd.plotly.v1+json": {
       "config": {
        "plotlyServerURL": "https://plot.ly"
       },
       "data": [
        {
         "alignmentgroup": "True",
         "hovertemplate": "variable=Crime Index<br>Country=%{x}<br>value=%{y}<extra></extra>",
         "legendgroup": "Crime Index",
         "marker": {
          "color": "#636efa",
          "pattern": {
           "shape": ""
          }
         },
         "name": "Crime Index",
         "offsetgroup": "Crime Index",
         "orientation": "v",
         "showlegend": true,
         "textposition": "auto",
         "type": "bar",
         "x": [
          "Papua New Guinea",
          "Brazil",
          "Nigeria",
          "Colombia",
          "Mexico",
          "Ethiopia",
          "United States",
          "India",
          "Australia",
          "China"
         ],
         "xaxis": "x",
         "y": [
          80.04,
          68.31,
          63.27,
          54.94,
          53.31,
          49.23,
          47.7,
          44.42,
          41.67,
          31.18
         ],
         "yaxis": "y"
        },
        {
         "alignmentgroup": "True",
         "hovertemplate": "variable=Mean Years of Schooling (2020)<br>Country=%{x}<br>value=%{y}<extra></extra>",
         "legendgroup": "Mean Years of Schooling (2020)",
         "marker": {
          "color": "#EF553B",
          "pattern": {
           "shape": ""
          }
         },
         "name": "Mean Years of Schooling (2020)",
         "offsetgroup": "Mean Years of Schooling (2020)",
         "orientation": "v",
         "showlegend": true,
         "textposition": "auto",
         "type": "bar",
         "x": [
          "Papua New Guinea",
          "Brazil",
          "Nigeria",
          "Colombia",
          "Mexico",
          "Ethiopia",
          "United States",
          "India",
          "Australia",
          "China"
         ],
         "xaxis": "x",
         "y": [
          4.74,
          8.128813955,
          7.181074153,
          8.128813955,
          9.221050262,
          3.201520681,
          13.68342972,
          6.655109195,
          12.72681999,
          7.600118446
         ],
         "yaxis": "y"
        }
       ],
       "layout": {
        "barmode": "group",
        "legend": {
         "title": {
          "text": "variable"
         },
         "tracegroupgap": 0
        },
        "margin": {
         "t": 60
        },
        "template": {
         "data": {
          "bar": [
           {
            "error_x": {
             "color": "#2a3f5f"
            },
            "error_y": {
             "color": "#2a3f5f"
            },
            "marker": {
             "line": {
              "color": "#E5ECF6",
              "width": 0.5
             },
             "pattern": {
              "fillmode": "overlay",
              "size": 10,
              "solidity": 0.2
             }
            },
            "type": "bar"
           }
          ],
          "barpolar": [
           {
            "marker": {
             "line": {
              "color": "#E5ECF6",
              "width": 0.5
             },
             "pattern": {
              "fillmode": "overlay",
              "size": 10,
              "solidity": 0.2
             }
            },
            "type": "barpolar"
           }
          ],
          "carpet": [
           {
            "aaxis": {
             "endlinecolor": "#2a3f5f",
             "gridcolor": "white",
             "linecolor": "white",
             "minorgridcolor": "white",
             "startlinecolor": "#2a3f5f"
            },
            "baxis": {
             "endlinecolor": "#2a3f5f",
             "gridcolor": "white",
             "linecolor": "white",
             "minorgridcolor": "white",
             "startlinecolor": "#2a3f5f"
            },
            "type": "carpet"
           }
          ],
          "choropleth": [
           {
            "colorbar": {
             "outlinewidth": 0,
             "ticks": ""
            },
            "type": "choropleth"
           }
          ],
          "contour": [
           {
            "colorbar": {
             "outlinewidth": 0,
             "ticks": ""
            },
            "colorscale": [
             [
              0,
              "#0d0887"
             ],
             [
              0.1111111111111111,
              "#46039f"
             ],
             [
              0.2222222222222222,
              "#7201a8"
             ],
             [
              0.3333333333333333,
              "#9c179e"
             ],
             [
              0.4444444444444444,
              "#bd3786"
             ],
             [
              0.5555555555555556,
              "#d8576b"
             ],
             [
              0.6666666666666666,
              "#ed7953"
             ],
             [
              0.7777777777777778,
              "#fb9f3a"
             ],
             [
              0.8888888888888888,
              "#fdca26"
             ],
             [
              1,
              "#f0f921"
             ]
            ],
            "type": "contour"
           }
          ],
          "contourcarpet": [
           {
            "colorbar": {
             "outlinewidth": 0,
             "ticks": ""
            },
            "type": "contourcarpet"
           }
          ],
          "heatmap": [
           {
            "colorbar": {
             "outlinewidth": 0,
             "ticks": ""
            },
            "colorscale": [
             [
              0,
              "#0d0887"
             ],
             [
              0.1111111111111111,
              "#46039f"
             ],
             [
              0.2222222222222222,
              "#7201a8"
             ],
             [
              0.3333333333333333,
              "#9c179e"
             ],
             [
              0.4444444444444444,
              "#bd3786"
             ],
             [
              0.5555555555555556,
              "#d8576b"
             ],
             [
              0.6666666666666666,
              "#ed7953"
             ],
             [
              0.7777777777777778,
              "#fb9f3a"
             ],
             [
              0.8888888888888888,
              "#fdca26"
             ],
             [
              1,
              "#f0f921"
             ]
            ],
            "type": "heatmap"
           }
          ],
          "heatmapgl": [
           {
            "colorbar": {
             "outlinewidth": 0,
             "ticks": ""
            },
            "colorscale": [
             [
              0,
              "#0d0887"
             ],
             [
              0.1111111111111111,
              "#46039f"
             ],
             [
              0.2222222222222222,
              "#7201a8"
             ],
             [
              0.3333333333333333,
              "#9c179e"
             ],
             [
              0.4444444444444444,
              "#bd3786"
             ],
             [
              0.5555555555555556,
              "#d8576b"
             ],
             [
              0.6666666666666666,
              "#ed7953"
             ],
             [
              0.7777777777777778,
              "#fb9f3a"
             ],
             [
              0.8888888888888888,
              "#fdca26"
             ],
             [
              1,
              "#f0f921"
             ]
            ],
            "type": "heatmapgl"
           }
          ],
          "histogram": [
           {
            "marker": {
             "pattern": {
              "fillmode": "overlay",
              "size": 10,
              "solidity": 0.2
             }
            },
            "type": "histogram"
           }
          ],
          "histogram2d": [
           {
            "colorbar": {
             "outlinewidth": 0,
             "ticks": ""
            },
            "colorscale": [
             [
              0,
              "#0d0887"
             ],
             [
              0.1111111111111111,
              "#46039f"
             ],
             [
              0.2222222222222222,
              "#7201a8"
             ],
             [
              0.3333333333333333,
              "#9c179e"
             ],
             [
              0.4444444444444444,
              "#bd3786"
             ],
             [
              0.5555555555555556,
              "#d8576b"
             ],
             [
              0.6666666666666666,
              "#ed7953"
             ],
             [
              0.7777777777777778,
              "#fb9f3a"
             ],
             [
              0.8888888888888888,
              "#fdca26"
             ],
             [
              1,
              "#f0f921"
             ]
            ],
            "type": "histogram2d"
           }
          ],
          "histogram2dcontour": [
           {
            "colorbar": {
             "outlinewidth": 0,
             "ticks": ""
            },
            "colorscale": [
             [
              0,
              "#0d0887"
             ],
             [
              0.1111111111111111,
              "#46039f"
             ],
             [
              0.2222222222222222,
              "#7201a8"
             ],
             [
              0.3333333333333333,
              "#9c179e"
             ],
             [
              0.4444444444444444,
              "#bd3786"
             ],
             [
              0.5555555555555556,
              "#d8576b"
             ],
             [
              0.6666666666666666,
              "#ed7953"
             ],
             [
              0.7777777777777778,
              "#fb9f3a"
             ],
             [
              0.8888888888888888,
              "#fdca26"
             ],
             [
              1,
              "#f0f921"
             ]
            ],
            "type": "histogram2dcontour"
           }
          ],
          "mesh3d": [
           {
            "colorbar": {
             "outlinewidth": 0,
             "ticks": ""
            },
            "type": "mesh3d"
           }
          ],
          "parcoords": [
           {
            "line": {
             "colorbar": {
              "outlinewidth": 0,
              "ticks": ""
             }
            },
            "type": "parcoords"
           }
          ],
          "pie": [
           {
            "automargin": true,
            "type": "pie"
           }
          ],
          "scatter": [
           {
            "fillpattern": {
             "fillmode": "overlay",
             "size": 10,
             "solidity": 0.2
            },
            "type": "scatter"
           }
          ],
          "scatter3d": [
           {
            "line": {
             "colorbar": {
              "outlinewidth": 0,
              "ticks": ""
             }
            },
            "marker": {
             "colorbar": {
              "outlinewidth": 0,
              "ticks": ""
             }
            },
            "type": "scatter3d"
           }
          ],
          "scattercarpet": [
           {
            "marker": {
             "colorbar": {
              "outlinewidth": 0,
              "ticks": ""
             }
            },
            "type": "scattercarpet"
           }
          ],
          "scattergeo": [
           {
            "marker": {
             "colorbar": {
              "outlinewidth": 0,
              "ticks": ""
             }
            },
            "type": "scattergeo"
           }
          ],
          "scattergl": [
           {
            "marker": {
             "colorbar": {
              "outlinewidth": 0,
              "ticks": ""
             }
            },
            "type": "scattergl"
           }
          ],
          "scattermapbox": [
           {
            "marker": {
             "colorbar": {
              "outlinewidth": 0,
              "ticks": ""
             }
            },
            "type": "scattermapbox"
           }
          ],
          "scatterpolar": [
           {
            "marker": {
             "colorbar": {
              "outlinewidth": 0,
              "ticks": ""
             }
            },
            "type": "scatterpolar"
           }
          ],
          "scatterpolargl": [
           {
            "marker": {
             "colorbar": {
              "outlinewidth": 0,
              "ticks": ""
             }
            },
            "type": "scatterpolargl"
           }
          ],
          "scatterternary": [
           {
            "marker": {
             "colorbar": {
              "outlinewidth": 0,
              "ticks": ""
             }
            },
            "type": "scatterternary"
           }
          ],
          "surface": [
           {
            "colorbar": {
             "outlinewidth": 0,
             "ticks": ""
            },
            "colorscale": [
             [
              0,
              "#0d0887"
             ],
             [
              0.1111111111111111,
              "#46039f"
             ],
             [
              0.2222222222222222,
              "#7201a8"
             ],
             [
              0.3333333333333333,
              "#9c179e"
             ],
             [
              0.4444444444444444,
              "#bd3786"
             ],
             [
              0.5555555555555556,
              "#d8576b"
             ],
             [
              0.6666666666666666,
              "#ed7953"
             ],
             [
              0.7777777777777778,
              "#fb9f3a"
             ],
             [
              0.8888888888888888,
              "#fdca26"
             ],
             [
              1,
              "#f0f921"
             ]
            ],
            "type": "surface"
           }
          ],
          "table": [
           {
            "cells": {
             "fill": {
              "color": "#EBF0F8"
             },
             "line": {
              "color": "white"
             }
            },
            "header": {
             "fill": {
              "color": "#C8D4E3"
             },
             "line": {
              "color": "white"
             }
            },
            "type": "table"
           }
          ]
         },
         "layout": {
          "annotationdefaults": {
           "arrowcolor": "#2a3f5f",
           "arrowhead": 0,
           "arrowwidth": 1
          },
          "autotypenumbers": "strict",
          "coloraxis": {
           "colorbar": {
            "outlinewidth": 0,
            "ticks": ""
           }
          },
          "colorscale": {
           "diverging": [
            [
             0,
             "#8e0152"
            ],
            [
             0.1,
             "#c51b7d"
            ],
            [
             0.2,
             "#de77ae"
            ],
            [
             0.3,
             "#f1b6da"
            ],
            [
             0.4,
             "#fde0ef"
            ],
            [
             0.5,
             "#f7f7f7"
            ],
            [
             0.6,
             "#e6f5d0"
            ],
            [
             0.7,
             "#b8e186"
            ],
            [
             0.8,
             "#7fbc41"
            ],
            [
             0.9,
             "#4d9221"
            ],
            [
             1,
             "#276419"
            ]
           ],
           "sequential": [
            [
             0,
             "#0d0887"
            ],
            [
             0.1111111111111111,
             "#46039f"
            ],
            [
             0.2222222222222222,
             "#7201a8"
            ],
            [
             0.3333333333333333,
             "#9c179e"
            ],
            [
             0.4444444444444444,
             "#bd3786"
            ],
            [
             0.5555555555555556,
             "#d8576b"
            ],
            [
             0.6666666666666666,
             "#ed7953"
            ],
            [
             0.7777777777777778,
             "#fb9f3a"
            ],
            [
             0.8888888888888888,
             "#fdca26"
            ],
            [
             1,
             "#f0f921"
            ]
           ],
           "sequentialminus": [
            [
             0,
             "#0d0887"
            ],
            [
             0.1111111111111111,
             "#46039f"
            ],
            [
             0.2222222222222222,
             "#7201a8"
            ],
            [
             0.3333333333333333,
             "#9c179e"
            ],
            [
             0.4444444444444444,
             "#bd3786"
            ],
            [
             0.5555555555555556,
             "#d8576b"
            ],
            [
             0.6666666666666666,
             "#ed7953"
            ],
            [
             0.7777777777777778,
             "#fb9f3a"
            ],
            [
             0.8888888888888888,
             "#fdca26"
            ],
            [
             1,
             "#f0f921"
            ]
           ]
          },
          "colorway": [
           "#636efa",
           "#EF553B",
           "#00cc96",
           "#ab63fa",
           "#FFA15A",
           "#19d3f3",
           "#FF6692",
           "#B6E880",
           "#FF97FF",
           "#FECB52"
          ],
          "font": {
           "color": "#2a3f5f"
          },
          "geo": {
           "bgcolor": "white",
           "lakecolor": "white",
           "landcolor": "#E5ECF6",
           "showlakes": true,
           "showland": true,
           "subunitcolor": "white"
          },
          "hoverlabel": {
           "align": "left"
          },
          "hovermode": "closest",
          "mapbox": {
           "style": "light"
          },
          "paper_bgcolor": "white",
          "plot_bgcolor": "#E5ECF6",
          "polar": {
           "angularaxis": {
            "gridcolor": "white",
            "linecolor": "white",
            "ticks": ""
           },
           "bgcolor": "#E5ECF6",
           "radialaxis": {
            "gridcolor": "white",
            "linecolor": "white",
            "ticks": ""
           }
          },
          "scene": {
           "xaxis": {
            "backgroundcolor": "#E5ECF6",
            "gridcolor": "white",
            "gridwidth": 2,
            "linecolor": "white",
            "showbackground": true,
            "ticks": "",
            "zerolinecolor": "white"
           },
           "yaxis": {
            "backgroundcolor": "#E5ECF6",
            "gridcolor": "white",
            "gridwidth": 2,
            "linecolor": "white",
            "showbackground": true,
            "ticks": "",
            "zerolinecolor": "white"
           },
           "zaxis": {
            "backgroundcolor": "#E5ECF6",
            "gridcolor": "white",
            "gridwidth": 2,
            "linecolor": "white",
            "showbackground": true,
            "ticks": "",
            "zerolinecolor": "white"
           }
          },
          "shapedefaults": {
           "line": {
            "color": "#2a3f5f"
           }
          },
          "ternary": {
           "aaxis": {
            "gridcolor": "white",
            "linecolor": "white",
            "ticks": ""
           },
           "baxis": {
            "gridcolor": "white",
            "linecolor": "white",
            "ticks": ""
           },
           "bgcolor": "#E5ECF6",
           "caxis": {
            "gridcolor": "white",
            "linecolor": "white",
            "ticks": ""
           }
          },
          "title": {
           "x": 0.05
          },
          "xaxis": {
           "automargin": true,
           "gridcolor": "white",
           "linecolor": "white",
           "ticks": "",
           "title": {
            "standoff": 15
           },
           "zerolinecolor": "white",
           "zerolinewidth": 2
          },
          "yaxis": {
           "automargin": true,
           "gridcolor": "white",
           "linecolor": "white",
           "ticks": "",
           "title": {
            "standoff": 15
           },
           "zerolinecolor": "white",
           "zerolinewidth": 2
          }
         }
        },
        "title": {
         "text": "Figuur 3: Crime Index and Mean Years of Schooling"
        },
        "xaxis": {
         "anchor": "y",
         "domain": [
          0,
          1
         ],
         "title": {
          "text": "Country"
         }
        },
        "yaxis": {
         "anchor": "x",
         "domain": [
          0,
          1
         ],
         "title": {
          "text": "Value"
         }
        }
       }
      }
     },
     "metadata": {},
     "output_type": "display_data"
    }
   ],
   "source": [
    "import pandas as pd\n",
    "import plotly.express as px\n",
    "\n",
    "# Read the CSV file\n",
    "data = pd.read_csv('crime_index_by_country_HDI(Education).csv')\n",
    "\n",
    "# Create bar plots using Plotly Express\n",
    "fig = px.bar(data, x='Country', y=['Crime Index', 'Mean Years of Schooling (2020)'], barmode='group')\n",
    "\n",
    "# Customize the plot\n",
    "fig.update_layout(\n",
    "    xaxis_title='Country',\n",
    "    yaxis_title='Value',\n",
    "    title='Figuur 3: Crime Index and Mean Years of Schooling',\n",
    ")\n",
    "\n",
    "# Show the plot\n",
    "fig.show()"
   ]
  },
  {
   "attachments": {},
   "cell_type": "markdown",
   "id": "2f004a6f",
   "metadata": {},
   "source": [
    "Uit de bovenstaande staafdiagrammen blijkt dat hoe lager het gemiddeld aantal jaren dat mensen naar school gaan in een land, hoe hoger de criminaliteitsgraad. Op de x-as vindt zich de namen van de landen. Op de Y-as de waarden. Een voorbeeld uit het diagram waarbij er een hoog aantal onderwijsjaren zijn is China, in China gaan mensen gemiddeld 7.6 jaar naar school. In China ligt de crime rate op 31.18. Een voorbeeld uit de grafiek waarbij er een laag aantal onderwijsjaren zijn is Papua New Guinea, hier gaan mensen 4.74 jaar naar school. De crime index ligt hier op 80.04. In figuur 3 zijn er 2 bewegingen te zien hoe lager de criminaliteitsgraad hoe hoger het gemiddeld aantal onderwijsjaren. Deze beweging is ook andersom waarneembaar, hoe hoger de criminaliteitsgraad hoe lager het aantal onderwijsjaren. Er kan dus met succes worden geconcludeerd dat er een verband is tussen het aantal onderwijsjaren en de criminaliteitsgraad in een land. "
   ]
  },
  {
   "attachments": {},
   "cell_type": "markdown",
   "id": "8a295fa1",
   "metadata": {},
   "source": [
    "**3.1.2 De rol van de levensverwachting van mensen in de criminaliteit**"
   ]
  },
  {
   "attachments": {},
   "cell_type": "markdown",
   "id": "5c3c8524",
   "metadata": {},
   "source": [
    "In de context van het onderzoek naar criminaliteit en sociale indicatoren is het begrijpen van de rol van levensverwachting van cruciaal belang. Deze statistische maatstaf is een belangrijke indicator van de algemene gezondheid en welzijn van een populatie. In dit onderdeel wordt de correlatie tussen de Crime Index en de Levensverwachting bij Geboorte onderzocht. De Crime Index geeft inzicht in het niveau van criminaliteit in verschillende landen, terwijl de Levensverwachting bij Geboorte een indicator is van de gemiddelde levensduur van mensen in die landen. De correlatie tussen deze twee variabelen kan waardevolle inzichten bieden in de mogelijke relatie tussen criminaliteit en gezondheid. Dit onderzoek is gebaseerd op gegevens die beschikbaar zijn voor een specifiek jaar, namelijk het jaar waarin de Levensverwachting bij Geboorte is gemeten."
   ]
  },
  {
   "cell_type": "code",
   "execution_count": 33,
   "id": "6e1adcb0",
   "metadata": {},
   "outputs": [
    {
     "name": "stdout",
     "output_type": "stream",
     "text": [
      "Correlatie tussen Crime Index en Levensverwachting bij Geboorte: -0.5547227165122521\n"
     ]
    },
    {
     "data": {
      "application/vnd.plotly.v1+json": {
       "config": {
        "plotlyServerURL": "https://plot.ly"
       },
       "data": [
        {
         "hovertemplate": "Levensverwachting bij Geboorte=%{x}<br>Crime Index=%{y}<extra></extra>",
         "legendgroup": "",
         "marker": {
          "color": "#636efa",
          "symbol": "circle"
         },
         "mode": "markers",
         "name": "",
         "orientation": "v",
         "showlegend": false,
         "type": "scatter",
         "x": [
          71.0949,
          65.7868,
          65.2522,
          62.5751,
          71.4619,
          74.0089,
          68.4858,
          71.0609,
          71.8686,
          62.829,
          62.2612,
          73.6655,
          71.9678,
          52.887,
          72.6766,
          72.4722,
          75.8921,
          62.6755,
          72.8894,
          67.9244,
          61.1242,
          71.7969,
          75.9378,
          66.4077,
          72.141,
          62.8513,
          64.4667,
          55.9666,
          79.277,
          74.7692,
          70.0304,
          79.8747,
          65.6471,
          70.1328,
          78.4298,
          72.1535,
          70.416,
          74.4528,
          73.1816,
          79.3769,
          65.3705,
          73.9199,
          74.832,
          72.5726,
          64.114,
          69.1228,
          77.4144,
          82.4274,
          82.2104,
          66.797,
          70.9905,
          74.3306,
          76.657,
          68.8077,
          70.1665,
          82.4699,
          71.7954,
          80.7884,
          80.4345,
          70.1499,
          82.3953,
          66.2695,
          77.8038,
          62.3803,
          72.1191,
          82.7419,
          75.2923,
          84.3239,
          76.2575,
          80.9092,
          75.1843,
          82.0471,
          76.3929,
          79.2739,
          76.9893,
          75.85,
          83.3545,
          75.1677,
          73.6453,
          75.4057,
          75.4526,
          69.2456,
          75.7297,
          81.1472,
          83.1951,
          76.9198,
          75.0676,
          76.9424,
          81.4335,
          82.2892,
          66.8679,
          81.3905,
          82.861,
          78.0766,
          82.3598,
          81.0545,
          77.0054,
          77.5673,
          74.7949,
          70.3309,
          75.3456,
          83.6089,
          81.6381,
          79.1735,
          76.2392,
          81.5449,
          81.8657,
          72.5132,
          77.9845,
          81.5036,
          82.5755,
          78.3431,
          72.173,
          66.7741,
          84.6879,
          83.067,
          80.4409,
          85.1968,
          74.7571,
          72.7653,
          78.9457,
          79.0987
         ],
         "xaxis": "x",
         "y": [
          84.36,
          80.04,
          77.29,
          76.97,
          76.65,
          68.31,
          68.15,
          67.84,
          67.2,
          66.12,
          65.74,
          65.65,
          63.82,
          63.27,
          62.74,
          62.27,
          62.26,
          61.73,
          61.04,
          59.57,
          58.86,
          58.59,
          58.55,
          57.8,
          57.47,
          56.14,
          56.13,
          56.04,
          55.59,
          54.94,
          54.81,
          54.61,
          53.47,
          53.31,
          53.02,
          52.66,
          52.18,
          50.41,
          49.6,
          49.6,
          49.23,
          48.97,
          48.91,
          48.84,
          48.64,
          48,
          47.7,
          47.43,
          47.37,
          46.93,
          46.65,
          46.41,
          46.2,
          46.06,
          46.03,
          45.68,
          45.54,
          45.29,
          44.54,
          44.42,
          44.24,
          44.18,
          44.07,
          43.22,
          42.22,
          42.19,
          41.68,
          41.67,
          41.56,
          41.3,
          40.83,
          40.64,
          40.23,
          40.01,
          39.86,
          39.5,
          39.37,
          38.61,
          38.55,
          37.73,
          37.43,
          35.61,
          35.23,
          35.14,
          34.62,
          34.57,
          33.88,
          33.13,
          32.75,
          32.33,
          32.12,
          31.57,
          31.53,
          31.18,
          30.44,
          29.83,
          29.81,
          29.02,
          28.75,
          28.62,
          27.82,
          27.33,
          27.15,
          26.86,
          26.68,
          26.09,
          25.53,
          25.02,
          24.67,
          24.43,
          23.7,
          23.56,
          22.69,
          22.04,
          21.67,
          21.58,
          20.95,
          20.91,
          20.62,
          20.5,
          15.45,
          11.9
         ],
         "yaxis": "y"
        },
        {
         "hovertemplate": "x=%{x}<br>y=%{y}<extra></extra>",
         "legendgroup": "",
         "line": {
          "color": "#636efa",
          "dash": "solid"
         },
         "marker": {
          "symbol": "circle"
         },
         "mode": "lines",
         "name": "",
         "orientation": "v",
         "showlegend": false,
         "type": "scatter",
         "x": [
          52.887,
          85.1968
         ],
         "xaxis": "x",
         "y": [
          71.90887453566786,
          30.026299519074186
         ],
         "yaxis": "y"
        }
       ],
       "layout": {
        "legend": {
         "tracegroupgap": 0
        },
        "template": {
         "data": {
          "bar": [
           {
            "error_x": {
             "color": "#2a3f5f"
            },
            "error_y": {
             "color": "#2a3f5f"
            },
            "marker": {
             "line": {
              "color": "#E5ECF6",
              "width": 0.5
             },
             "pattern": {
              "fillmode": "overlay",
              "size": 10,
              "solidity": 0.2
             }
            },
            "type": "bar"
           }
          ],
          "barpolar": [
           {
            "marker": {
             "line": {
              "color": "#E5ECF6",
              "width": 0.5
             },
             "pattern": {
              "fillmode": "overlay",
              "size": 10,
              "solidity": 0.2
             }
            },
            "type": "barpolar"
           }
          ],
          "carpet": [
           {
            "aaxis": {
             "endlinecolor": "#2a3f5f",
             "gridcolor": "white",
             "linecolor": "white",
             "minorgridcolor": "white",
             "startlinecolor": "#2a3f5f"
            },
            "baxis": {
             "endlinecolor": "#2a3f5f",
             "gridcolor": "white",
             "linecolor": "white",
             "minorgridcolor": "white",
             "startlinecolor": "#2a3f5f"
            },
            "type": "carpet"
           }
          ],
          "choropleth": [
           {
            "colorbar": {
             "outlinewidth": 0,
             "ticks": ""
            },
            "type": "choropleth"
           }
          ],
          "contour": [
           {
            "colorbar": {
             "outlinewidth": 0,
             "ticks": ""
            },
            "colorscale": [
             [
              0,
              "#0d0887"
             ],
             [
              0.1111111111111111,
              "#46039f"
             ],
             [
              0.2222222222222222,
              "#7201a8"
             ],
             [
              0.3333333333333333,
              "#9c179e"
             ],
             [
              0.4444444444444444,
              "#bd3786"
             ],
             [
              0.5555555555555556,
              "#d8576b"
             ],
             [
              0.6666666666666666,
              "#ed7953"
             ],
             [
              0.7777777777777778,
              "#fb9f3a"
             ],
             [
              0.8888888888888888,
              "#fdca26"
             ],
             [
              1,
              "#f0f921"
             ]
            ],
            "type": "contour"
           }
          ],
          "contourcarpet": [
           {
            "colorbar": {
             "outlinewidth": 0,
             "ticks": ""
            },
            "type": "contourcarpet"
           }
          ],
          "heatmap": [
           {
            "colorbar": {
             "outlinewidth": 0,
             "ticks": ""
            },
            "colorscale": [
             [
              0,
              "#0d0887"
             ],
             [
              0.1111111111111111,
              "#46039f"
             ],
             [
              0.2222222222222222,
              "#7201a8"
             ],
             [
              0.3333333333333333,
              "#9c179e"
             ],
             [
              0.4444444444444444,
              "#bd3786"
             ],
             [
              0.5555555555555556,
              "#d8576b"
             ],
             [
              0.6666666666666666,
              "#ed7953"
             ],
             [
              0.7777777777777778,
              "#fb9f3a"
             ],
             [
              0.8888888888888888,
              "#fdca26"
             ],
             [
              1,
              "#f0f921"
             ]
            ],
            "type": "heatmap"
           }
          ],
          "heatmapgl": [
           {
            "colorbar": {
             "outlinewidth": 0,
             "ticks": ""
            },
            "colorscale": [
             [
              0,
              "#0d0887"
             ],
             [
              0.1111111111111111,
              "#46039f"
             ],
             [
              0.2222222222222222,
              "#7201a8"
             ],
             [
              0.3333333333333333,
              "#9c179e"
             ],
             [
              0.4444444444444444,
              "#bd3786"
             ],
             [
              0.5555555555555556,
              "#d8576b"
             ],
             [
              0.6666666666666666,
              "#ed7953"
             ],
             [
              0.7777777777777778,
              "#fb9f3a"
             ],
             [
              0.8888888888888888,
              "#fdca26"
             ],
             [
              1,
              "#f0f921"
             ]
            ],
            "type": "heatmapgl"
           }
          ],
          "histogram": [
           {
            "marker": {
             "pattern": {
              "fillmode": "overlay",
              "size": 10,
              "solidity": 0.2
             }
            },
            "type": "histogram"
           }
          ],
          "histogram2d": [
           {
            "colorbar": {
             "outlinewidth": 0,
             "ticks": ""
            },
            "colorscale": [
             [
              0,
              "#0d0887"
             ],
             [
              0.1111111111111111,
              "#46039f"
             ],
             [
              0.2222222222222222,
              "#7201a8"
             ],
             [
              0.3333333333333333,
              "#9c179e"
             ],
             [
              0.4444444444444444,
              "#bd3786"
             ],
             [
              0.5555555555555556,
              "#d8576b"
             ],
             [
              0.6666666666666666,
              "#ed7953"
             ],
             [
              0.7777777777777778,
              "#fb9f3a"
             ],
             [
              0.8888888888888888,
              "#fdca26"
             ],
             [
              1,
              "#f0f921"
             ]
            ],
            "type": "histogram2d"
           }
          ],
          "histogram2dcontour": [
           {
            "colorbar": {
             "outlinewidth": 0,
             "ticks": ""
            },
            "colorscale": [
             [
              0,
              "#0d0887"
             ],
             [
              0.1111111111111111,
              "#46039f"
             ],
             [
              0.2222222222222222,
              "#7201a8"
             ],
             [
              0.3333333333333333,
              "#9c179e"
             ],
             [
              0.4444444444444444,
              "#bd3786"
             ],
             [
              0.5555555555555556,
              "#d8576b"
             ],
             [
              0.6666666666666666,
              "#ed7953"
             ],
             [
              0.7777777777777778,
              "#fb9f3a"
             ],
             [
              0.8888888888888888,
              "#fdca26"
             ],
             [
              1,
              "#f0f921"
             ]
            ],
            "type": "histogram2dcontour"
           }
          ],
          "mesh3d": [
           {
            "colorbar": {
             "outlinewidth": 0,
             "ticks": ""
            },
            "type": "mesh3d"
           }
          ],
          "parcoords": [
           {
            "line": {
             "colorbar": {
              "outlinewidth": 0,
              "ticks": ""
             }
            },
            "type": "parcoords"
           }
          ],
          "pie": [
           {
            "automargin": true,
            "type": "pie"
           }
          ],
          "scatter": [
           {
            "fillpattern": {
             "fillmode": "overlay",
             "size": 10,
             "solidity": 0.2
            },
            "type": "scatter"
           }
          ],
          "scatter3d": [
           {
            "line": {
             "colorbar": {
              "outlinewidth": 0,
              "ticks": ""
             }
            },
            "marker": {
             "colorbar": {
              "outlinewidth": 0,
              "ticks": ""
             }
            },
            "type": "scatter3d"
           }
          ],
          "scattercarpet": [
           {
            "marker": {
             "colorbar": {
              "outlinewidth": 0,
              "ticks": ""
             }
            },
            "type": "scattercarpet"
           }
          ],
          "scattergeo": [
           {
            "marker": {
             "colorbar": {
              "outlinewidth": 0,
              "ticks": ""
             }
            },
            "type": "scattergeo"
           }
          ],
          "scattergl": [
           {
            "marker": {
             "colorbar": {
              "outlinewidth": 0,
              "ticks": ""
             }
            },
            "type": "scattergl"
           }
          ],
          "scattermapbox": [
           {
            "marker": {
             "colorbar": {
              "outlinewidth": 0,
              "ticks": ""
             }
            },
            "type": "scattermapbox"
           }
          ],
          "scatterpolar": [
           {
            "marker": {
             "colorbar": {
              "outlinewidth": 0,
              "ticks": ""
             }
            },
            "type": "scatterpolar"
           }
          ],
          "scatterpolargl": [
           {
            "marker": {
             "colorbar": {
              "outlinewidth": 0,
              "ticks": ""
             }
            },
            "type": "scatterpolargl"
           }
          ],
          "scatterternary": [
           {
            "marker": {
             "colorbar": {
              "outlinewidth": 0,
              "ticks": ""
             }
            },
            "type": "scatterternary"
           }
          ],
          "surface": [
           {
            "colorbar": {
             "outlinewidth": 0,
             "ticks": ""
            },
            "colorscale": [
             [
              0,
              "#0d0887"
             ],
             [
              0.1111111111111111,
              "#46039f"
             ],
             [
              0.2222222222222222,
              "#7201a8"
             ],
             [
              0.3333333333333333,
              "#9c179e"
             ],
             [
              0.4444444444444444,
              "#bd3786"
             ],
             [
              0.5555555555555556,
              "#d8576b"
             ],
             [
              0.6666666666666666,
              "#ed7953"
             ],
             [
              0.7777777777777778,
              "#fb9f3a"
             ],
             [
              0.8888888888888888,
              "#fdca26"
             ],
             [
              1,
              "#f0f921"
             ]
            ],
            "type": "surface"
           }
          ],
          "table": [
           {
            "cells": {
             "fill": {
              "color": "#EBF0F8"
             },
             "line": {
              "color": "white"
             }
            },
            "header": {
             "fill": {
              "color": "#C8D4E3"
             },
             "line": {
              "color": "white"
             }
            },
            "type": "table"
           }
          ]
         },
         "layout": {
          "annotationdefaults": {
           "arrowcolor": "#2a3f5f",
           "arrowhead": 0,
           "arrowwidth": 1
          },
          "autotypenumbers": "strict",
          "coloraxis": {
           "colorbar": {
            "outlinewidth": 0,
            "ticks": ""
           }
          },
          "colorscale": {
           "diverging": [
            [
             0,
             "#8e0152"
            ],
            [
             0.1,
             "#c51b7d"
            ],
            [
             0.2,
             "#de77ae"
            ],
            [
             0.3,
             "#f1b6da"
            ],
            [
             0.4,
             "#fde0ef"
            ],
            [
             0.5,
             "#f7f7f7"
            ],
            [
             0.6,
             "#e6f5d0"
            ],
            [
             0.7,
             "#b8e186"
            ],
            [
             0.8,
             "#7fbc41"
            ],
            [
             0.9,
             "#4d9221"
            ],
            [
             1,
             "#276419"
            ]
           ],
           "sequential": [
            [
             0,
             "#0d0887"
            ],
            [
             0.1111111111111111,
             "#46039f"
            ],
            [
             0.2222222222222222,
             "#7201a8"
            ],
            [
             0.3333333333333333,
             "#9c179e"
            ],
            [
             0.4444444444444444,
             "#bd3786"
            ],
            [
             0.5555555555555556,
             "#d8576b"
            ],
            [
             0.6666666666666666,
             "#ed7953"
            ],
            [
             0.7777777777777778,
             "#fb9f3a"
            ],
            [
             0.8888888888888888,
             "#fdca26"
            ],
            [
             1,
             "#f0f921"
            ]
           ],
           "sequentialminus": [
            [
             0,
             "#0d0887"
            ],
            [
             0.1111111111111111,
             "#46039f"
            ],
            [
             0.2222222222222222,
             "#7201a8"
            ],
            [
             0.3333333333333333,
             "#9c179e"
            ],
            [
             0.4444444444444444,
             "#bd3786"
            ],
            [
             0.5555555555555556,
             "#d8576b"
            ],
            [
             0.6666666666666666,
             "#ed7953"
            ],
            [
             0.7777777777777778,
             "#fb9f3a"
            ],
            [
             0.8888888888888888,
             "#fdca26"
            ],
            [
             1,
             "#f0f921"
            ]
           ]
          },
          "colorway": [
           "#636efa",
           "#EF553B",
           "#00cc96",
           "#ab63fa",
           "#FFA15A",
           "#19d3f3",
           "#FF6692",
           "#B6E880",
           "#FF97FF",
           "#FECB52"
          ],
          "font": {
           "color": "#2a3f5f"
          },
          "geo": {
           "bgcolor": "white",
           "lakecolor": "white",
           "landcolor": "#E5ECF6",
           "showlakes": true,
           "showland": true,
           "subunitcolor": "white"
          },
          "hoverlabel": {
           "align": "left"
          },
          "hovermode": "closest",
          "mapbox": {
           "style": "light"
          },
          "paper_bgcolor": "white",
          "plot_bgcolor": "#E5ECF6",
          "polar": {
           "angularaxis": {
            "gridcolor": "white",
            "linecolor": "white",
            "ticks": ""
           },
           "bgcolor": "#E5ECF6",
           "radialaxis": {
            "gridcolor": "white",
            "linecolor": "white",
            "ticks": ""
           }
          },
          "scene": {
           "xaxis": {
            "backgroundcolor": "#E5ECF6",
            "gridcolor": "white",
            "gridwidth": 2,
            "linecolor": "white",
            "showbackground": true,
            "ticks": "",
            "zerolinecolor": "white"
           },
           "yaxis": {
            "backgroundcolor": "#E5ECF6",
            "gridcolor": "white",
            "gridwidth": 2,
            "linecolor": "white",
            "showbackground": true,
            "ticks": "",
            "zerolinecolor": "white"
           },
           "zaxis": {
            "backgroundcolor": "#E5ECF6",
            "gridcolor": "white",
            "gridwidth": 2,
            "linecolor": "white",
            "showbackground": true,
            "ticks": "",
            "zerolinecolor": "white"
           }
          },
          "shapedefaults": {
           "line": {
            "color": "#2a3f5f"
           }
          },
          "ternary": {
           "aaxis": {
            "gridcolor": "white",
            "linecolor": "white",
            "ticks": ""
           },
           "baxis": {
            "gridcolor": "white",
            "linecolor": "white",
            "ticks": ""
           },
           "bgcolor": "#E5ECF6",
           "caxis": {
            "gridcolor": "white",
            "linecolor": "white",
            "ticks": ""
           }
          },
          "title": {
           "x": 0.05
          },
          "xaxis": {
           "automargin": true,
           "gridcolor": "white",
           "linecolor": "white",
           "ticks": "",
           "title": {
            "standoff": 15
           },
           "zerolinecolor": "white",
           "zerolinewidth": 2
          },
          "yaxis": {
           "automargin": true,
           "gridcolor": "white",
           "linecolor": "white",
           "ticks": "",
           "title": {
            "standoff": 15
           },
           "zerolinecolor": "white",
           "zerolinewidth": 2
          }
         }
        },
        "title": {
         "text": "Spreidingsdiagram Crime Index vs. Levensverwachting bij Geboorte (2020)"
        },
        "xaxis": {
         "anchor": "y",
         "domain": [
          0,
          1
         ],
         "title": {
          "text": "Levensverwachting bij Geboorte"
         }
        },
        "yaxis": {
         "anchor": "x",
         "domain": [
          0,
          1
         ],
         "title": {
          "text": "Crime Index"
         }
        }
       }
      }
     },
     "metadata": {},
     "output_type": "display_data"
    }
   ],
   "source": [
    "import pandas as pd\n",
    "import plotly.express as px\n",
    "import numpy as np\n",
    "\n",
    "# Laad de gegevens\n",
    "file_path = 'crime_index_by_country.csv'\n",
    "file_path2 = 'Human Development Index - Full.csv'\n",
    "crime_index = pd.read_csv(file_path)\n",
    "hdi_index = pd.read_csv(file_path2)\n",
    "\n",
    "# Selecteer relevante kolommen\n",
    "crime_data = crime_index[['Country', 'Crime Index']]\n",
    "hdi_data = hdi_index[['Country', 'Life Expectancy at Birth (2020)']]\n",
    "\n",
    "# Combineer datasets op basis van landenamen\n",
    "merged_data = pd.merge(crime_data, hdi_data, on='Country', how='inner')\n",
    "\n",
    "# Bereken de correlatie\n",
    "correlation = merged_data['Crime Index'].corr(merged_data['Life Expectancy at Birth (2020)'])\n",
    "\n",
    "# Print de correlatiecoëfficiënt\n",
    "print(\"Correlatie tussen Crime Index en Levensverwachting bij Geboorte:\", correlation)\n",
    "\n",
    "# Maak een spreidingsdiagram\n",
    "fig = px.scatter(merged_data, x='Life Expectancy at Birth (2020)', y='Crime Index',\n",
    "                 labels={'Life Expectancy at Birth (2020)': 'Levensverwachting bij Geboorte',\n",
    "                         'Crime Index': 'Crime Index'},\n",
    "                 title='Spreidingsdiagram Crime Index vs. Levensverwachting bij Geboorte (2020)')\n",
    "\n",
    "# Voeg trendlijn toe\n",
    "x = merged_data['Life Expectancy at Birth (2020)']\n",
    "y = merged_data['Crime Index']\n",
    "coefficients = np.polyfit(x, y, 1)\n",
    "trendline_x = np.array([min(x), max(x)])\n",
    "trendline_y = np.polyval(coefficients, trendline_x)\n",
    "fig.add_trace(px.line(x=trendline_x, y=trendline_y).data[0])\n",
    "\n",
    "# Toon de grafiek\n",
    "fig.show()\n"
   ]
  },
  {
   "attachments": {},
   "cell_type": "markdown",
   "id": "f4d4b139",
   "metadata": {},
   "source": [
    "De correlatiecoëfficiënt van -0.5547227165122521 tussen de Crime Index en de Levensverwachting bij Geboorte geeft aan dat er een matige negatieve correlatie bestaat tussen deze twee variabelen. Deze observatie wordt ondersteund door de spreidingsdiagram met de trendlijn die weergegeven wordt. Op de plot is te zien dat naarmate de levensverwachting bij geboorte toeneemt, de crime index over het algemeen afneemt, en vice versa.\n",
    "\n",
    "De trendlijn op de plot illustreert de algemene trend tussen de Crime Index en de Levensverwachting bij Geboorte. De neerwaartse richting van de trendlijn bevestigt de negatieve correlatie. Het suggereert dat landen met hogere criminaliteitscijfers doorgaans lagere levensverwachtingen bij geboorte hebben, terwijl landen met lagere criminaliteitscijfers een hogere levensverwachting bij geboorte laten zien.\n",
    "\n",
    "Het is echter belangrijk om op te merken dat correlatie geen causaal verband impliceert. Andere factoren kunnen van invloed zijn op de relatie tussen criminaliteit en levensverwachting bij geboorte. Het vereist verder onderzoek en analyse om de specifieke mechanismen en oorzaken achter deze waarnemingen te identificeren.\n",
    "\n",
    "Niettemin biedt deze correlatie ons waardevol inzicht in de mogelijke interactie tussen criminaliteit en de gezondheid en welzijn van een samenleving. Het onderstreept het belang van het bevorderen van veiligheid en het aanpakken van criminaliteit als een middel om de algemene gezondheid en het welzijn van de bevolking te verbeteren."
   ]
  },
  {
   "attachments": {},
   "cell_type": "markdown",
   "id": "e535f351",
   "metadata": {},
   "source": [
    "# 3.2 Economisch"
   ]
  },
  {
   "attachments": {},
   "cell_type": "markdown",
   "id": "305a2e69",
   "metadata": {},
   "source": [
    "**3.2.1 De rol van de economie in de criminaliteit**\n",
    "\n",
    "In recente jaren zijn we als wereldeconomie een zekere recessie aan het betreden. De prijzen van alles gaat omhoog. Eten, wonen, brandstof. Alles wordt duurder. Dit heeft een grote impact op iedereen. Al het geld wordt minder waard, en dit heeft een psychologische impact op ons allen. De onrust die de recessie met zich meebrengt maakt mensen onvoorspelbaar en prikkelbaar. Mede door de coronapandemie is de kloof tussen rijk en arm in vrijwel elk land gegroeid. Er is een algemene consensus bereikt dat criminaliteit onder andere door financiële moeilijkheden wordt veroorzaakt. Als een persoon niet rond kan komen op de legale manier, zal hij zich niet laten stoppen door de regels. Een persoon moet immers kunnen eten en zorgen voor zijn naasten. Daarnaast is een motivator voor criminaliteit, voornamelijk diefstal, het gevoel dat iets ontbreekt wat iemand anders wel heeft. In landen waarbij de inkomensverschillen groot zijn, zal er ook vaker meer criminaliteit zijn."
   ]
  },
  {
   "cell_type": "code",
   "execution_count": 34,
   "id": "3e90ee2e",
   "metadata": {},
   "outputs": [],
   "source": [
    "import pandas as pd\n",
    "# Load dataframes\n",
    "df_crime= pd.read_csv(\"crime_index_by_country.csv\")\n",
    "df_hdi= pd.read_csv(\"Human Development Index - Full.csv\")\n",
    "\n",
    "# Aparte dataframe voor de gebruikte variabelen gesorteerd op crime index\n",
    "df_plot = pd.DataFrame()\n",
    "df_plot['Income Inequality'] = df_hdi['Inequality in income (2020)'].dropna()\n",
    "df_plot['BNP/hoofd'] = df_hdi['Gross National Income Per Capita (2020)'].dropna()\n",
    "df_plot['HDI'] = df_hdi['Human Development Index (2020)'].dropna()\n",
    "df_plot['Country'] = df_hdi['Country']\n",
    "df_plot_final = df_plot.merge(df_crime, on='Country', how='inner').sort_values(by='Crime Index', ascending=False).reset_index().drop(columns=['index', 'Safety Index'])\n"
   ]
  },
  {
   "cell_type": "code",
   "execution_count": 35,
   "id": "846504be",
   "metadata": {},
   "outputs": [
    {
     "name": "stdout",
     "output_type": "stream",
     "text": [
      "-0.5390810718243931\n",
      "0.5395336186949828\n"
     ]
    },
    {
     "data": {
      "application/vnd.plotly.v1+json": {
       "config": {
        "plotlyServerURL": "https://plot.ly"
       },
       "data": [
        {
         "marker": {
          "color": "red",
          "line": {
           "color": "black",
           "width": 0.5
          },
          "size": 6,
          "symbol": "circle"
         },
         "mode": "markers",
         "text": [
          "Venezuela",
          "Papua New Guinea",
          "South Africa",
          "Honduras",
          "Brazil",
          "Guyana",
          "El Salvador",
          "Jamaica",
          "Namibia",
          "Angola",
          "Peru",
          "Bangladesh",
          "Nigeria",
          "Argentina",
          "Kenya",
          "Dominican Republic",
          "Zimbabwe",
          "Guatemala",
          "Tanzania",
          "Mongolia",
          "Uganda",
          "Bolivia",
          "Somalia",
          "Costa Rica",
          "Colombia",
          "Kazakhstan",
          "Maldives",
          "Mexico",
          "Uruguay",
          "Ecuador",
          "Cambodia",
          "Algeria",
          "Paraguay",
          "Chile",
          "Ethiopia",
          "Morocco",
          "Iran",
          "Ukraine",
          "Ghana",
          "Iraq",
          "United States",
          "Sweden",
          "France",
          "Egypt",
          "Mauritius",
          "Panama",
          "Indonesia",
          "Moldova",
          "Ireland",
          "Nicaragua",
          "Belgium",
          "United Kingdom",
          "India",
          "Italy",
          "Pakistan",
          "Zambia",
          "Philippines",
          "New Zealand",
          "Tunisia",
          "Australia",
          "Montenegro",
          "Greece",
          "Jordan",
          "Canada",
          "Sri Lanka",
          "Thailand",
          "Albania",
          "Turkey",
          "Malta",
          "North Macedonia",
          "Bulgaria",
          "Serbia",
          "Latvia",
          "Nepal",
          "Hungary",
          "Germany",
          "Norway",
          "Lithuania",
          "Poland",
          "Luxembourg",
          "Spain",
          "Azerbaijan",
          "Cyprus",
          "Singapore",
          "China",
          "Israel",
          "Portugal",
          "Slovakia",
          "Romania",
          "South Korea",
          "Netherlands",
          "Denmark",
          "Finland",
          "Belarus",
          "Croatia",
          "Austria",
          "Iceland",
          "Estonia",
          "Armenia",
          "Rwanda",
          "Japan",
          "Switzerland",
          "Slovenia",
          "Hong Kong",
          "Oman",
          "Georgia"
         ],
         "type": "scatter3d",
         "x": [
          4908.065,
          4022.073953,
          12449.67104,
          4792.024122,
          13790.71143,
          18788.01779,
          7558.531908,
          8474.815687,
          8710.512156,
          5593.14206,
          10916.70628,
          5108.160545,
          4739.674805,
          19178.33184,
          4266.967466,
          16164.89952,
          3654.289051,
          8241.444361,
          2615.736839,
          10626.79022,
          2138.005821,
          7756.177294,
          1025.952583,
          18753.91088,
          13184.95894,
          23325.00389,
          11773.26598,
          17234.78062,
          20441.92913,
          10031.66906,
          4032.751435,
          10530.29914,
          12015.54396,
          22285.86026,
          2279.637186,
          6881.631266,
          12624.41241,
          12718.46051,
          5601.428197,
          9663.007644,
          61461.64197,
          52359.21296,
          43047.83087,
          11581.07981,
          21194.67865,
          23694.26665,
          11141.56832,
          12822.36442,
          67735.8762,
          5137.138341,
          49391.99684,
          42374.7622,
          6107.493949,
          39900.63273,
          4467.236365,
          3178.619722,
          8558.594619,
          41946.38822,
          10046.07161,
          47078.24446,
          18546.1188,
          26680.88796,
          9788.721555,
          45038.07302,
          12208.46787,
          16803.76572,
          12996.76291,
          28317.43532,
          35645.06549,
          15310.7911,
          22020.49393,
          17665.40411,
          31101.79957,
          3844.117012,
          30487.04684,
          53077.54364,
          62572.93547,
          36076.54329,
          31164.47794,
          80285.84238,
          36515.96007,
          13567.9371,
          36519.29668,
          81035.0282,
          16201.35297,
          39015.07545,
          31636.80056,
          29801.09302,
          28358.50064,
          42698.12802,
          53503.64286,
          58143.77306,
          47946.32854,
          18307.70473,
          27185.25054,
          51574.18306,
          54141.4547,
          35131.82128,
          12454.14508,
          2051.532402,
          41487.05103,
          65011.21711,
          36992.83331,
          58643.85895,
          27277.06476,
          13329.53028
         ],
         "y": [
          21,
          28.89932,
          56.996,
          34.911526,
          41.306376,
          25.1,
          22.481244,
          31.96616,
          53.58558,
          28.87733,
          26.300654,
          16.55655,
          28.05169,
          28.099767,
          33.14821,
          25.628189,
          28.76901,
          29.56,
          22.4,
          16.94628,
          24.94038796,
          26.863258,
          24.35,
          33.41354,
          37.712196,
          10.33987,
          25.8459,
          29.798888,
          23.543408,
          31.050541,
          14.34211,
          11.5052,
          30.441064,
          28.273047,
          12.07582,
          22.50352,
          19.71428189,
          8.524722702,
          24.14249,
          12.67895,
          23.222,
          12.77164,
          13.91798,
          36.503,
          18.18098242,
          36.569706,
          20.11727,
          10.43722208,
          12.26296,
          30.693801,
          10.30447,
          17.96959,
          19.369,
          20.87235,
          17.23416,
          44.84022,
          28.09546,
          16.44939836,
          16.88955,
          17.126,
          16.92405,
          16.63777,
          17.91185,
          17.077,
          22.36351,
          18.7899,
          13.17898,
          23.07928288,
          13.85802,
          19.15726,
          23.00311,
          18.49592,
          17.45024,
          16.31632,
          12.29405,
          12.46003,
          11.43144,
          17.05362,
          12.10742,
          16.6522,
          19.31195,
          8.859,
          13.03255,
          24.96040064,
          27.391,
          23.134,
          15.46189,
          9.06554,
          20.89714,
          16.13,
          11.89275,
          10.05068,
          10.48338,
          9.64549,
          12.9537,
          14.93291,
          9.51407,
          14.98963,
          17.43837,
          27.19248,
          16.662889,
          15.58172,
          8.30524,
          25.56271964,
          20.08885691,
          24.85
         ],
         "z": [
          84.36,
          80.04,
          77.29,
          76.65,
          68.31,
          68.15,
          67.84,
          67.2,
          66.12,
          65.74,
          65.65,
          63.82,
          63.27,
          62.26,
          61.73,
          61.04,
          58.86,
          58.59,
          57.8,
          57.47,
          56.14,
          56.13,
          56.04,
          55.59,
          54.94,
          54.81,
          54.61,
          53.31,
          53.02,
          52.66,
          52.18,
          50.41,
          49.6,
          49.6,
          49.23,
          48.97,
          48.91,
          48.84,
          48.64,
          48,
          47.7,
          47.43,
          47.37,
          46.65,
          46.41,
          46.2,
          46.06,
          46.03,
          45.68,
          45.54,
          45.29,
          44.54,
          44.42,
          44.24,
          44.18,
          43.22,
          42.22,
          42.19,
          41.68,
          41.67,
          41.56,
          41.3,
          40.83,
          40.64,
          40.23,
          40.01,
          39.86,
          39.5,
          39.37,
          38.61,
          38.55,
          37.73,
          37.43,
          35.61,
          35.23,
          35.14,
          34.62,
          33.88,
          33.13,
          32.75,
          32.33,
          32.12,
          31.57,
          31.53,
          31.18,
          30.44,
          29.83,
          29.81,
          27.82,
          27.33,
          27.15,
          26.09,
          25.53,
          25.02,
          24.67,
          24.43,
          23.7,
          23.56,
          22.69,
          22.04,
          21.67,
          21.58,
          20.95,
          20.91,
          20.62,
          20.5
         ]
        }
       ],
       "layout": {
        "height": 700,
        "margin": {
         "b": 0,
         "l": 0,
         "r": 0,
         "t": 40
        },
        "scene": {
         "xaxis": {
          "title": {
           "text": "BNP/hoofd"
          }
         },
         "yaxis": {
          "title": {
           "text": "Income Inequality"
          }
         },
         "zaxis": {
          "title": {
           "text": "Crime Index"
          }
         }
        },
        "template": {
         "data": {
          "bar": [
           {
            "error_x": {
             "color": "#2a3f5f"
            },
            "error_y": {
             "color": "#2a3f5f"
            },
            "marker": {
             "line": {
              "color": "#E5ECF6",
              "width": 0.5
             },
             "pattern": {
              "fillmode": "overlay",
              "size": 10,
              "solidity": 0.2
             }
            },
            "type": "bar"
           }
          ],
          "barpolar": [
           {
            "marker": {
             "line": {
              "color": "#E5ECF6",
              "width": 0.5
             },
             "pattern": {
              "fillmode": "overlay",
              "size": 10,
              "solidity": 0.2
             }
            },
            "type": "barpolar"
           }
          ],
          "carpet": [
           {
            "aaxis": {
             "endlinecolor": "#2a3f5f",
             "gridcolor": "white",
             "linecolor": "white",
             "minorgridcolor": "white",
             "startlinecolor": "#2a3f5f"
            },
            "baxis": {
             "endlinecolor": "#2a3f5f",
             "gridcolor": "white",
             "linecolor": "white",
             "minorgridcolor": "white",
             "startlinecolor": "#2a3f5f"
            },
            "type": "carpet"
           }
          ],
          "choropleth": [
           {
            "colorbar": {
             "outlinewidth": 0,
             "ticks": ""
            },
            "type": "choropleth"
           }
          ],
          "contour": [
           {
            "colorbar": {
             "outlinewidth": 0,
             "ticks": ""
            },
            "colorscale": [
             [
              0,
              "#0d0887"
             ],
             [
              0.1111111111111111,
              "#46039f"
             ],
             [
              0.2222222222222222,
              "#7201a8"
             ],
             [
              0.3333333333333333,
              "#9c179e"
             ],
             [
              0.4444444444444444,
              "#bd3786"
             ],
             [
              0.5555555555555556,
              "#d8576b"
             ],
             [
              0.6666666666666666,
              "#ed7953"
             ],
             [
              0.7777777777777778,
              "#fb9f3a"
             ],
             [
              0.8888888888888888,
              "#fdca26"
             ],
             [
              1,
              "#f0f921"
             ]
            ],
            "type": "contour"
           }
          ],
          "contourcarpet": [
           {
            "colorbar": {
             "outlinewidth": 0,
             "ticks": ""
            },
            "type": "contourcarpet"
           }
          ],
          "heatmap": [
           {
            "colorbar": {
             "outlinewidth": 0,
             "ticks": ""
            },
            "colorscale": [
             [
              0,
              "#0d0887"
             ],
             [
              0.1111111111111111,
              "#46039f"
             ],
             [
              0.2222222222222222,
              "#7201a8"
             ],
             [
              0.3333333333333333,
              "#9c179e"
             ],
             [
              0.4444444444444444,
              "#bd3786"
             ],
             [
              0.5555555555555556,
              "#d8576b"
             ],
             [
              0.6666666666666666,
              "#ed7953"
             ],
             [
              0.7777777777777778,
              "#fb9f3a"
             ],
             [
              0.8888888888888888,
              "#fdca26"
             ],
             [
              1,
              "#f0f921"
             ]
            ],
            "type": "heatmap"
           }
          ],
          "heatmapgl": [
           {
            "colorbar": {
             "outlinewidth": 0,
             "ticks": ""
            },
            "colorscale": [
             [
              0,
              "#0d0887"
             ],
             [
              0.1111111111111111,
              "#46039f"
             ],
             [
              0.2222222222222222,
              "#7201a8"
             ],
             [
              0.3333333333333333,
              "#9c179e"
             ],
             [
              0.4444444444444444,
              "#bd3786"
             ],
             [
              0.5555555555555556,
              "#d8576b"
             ],
             [
              0.6666666666666666,
              "#ed7953"
             ],
             [
              0.7777777777777778,
              "#fb9f3a"
             ],
             [
              0.8888888888888888,
              "#fdca26"
             ],
             [
              1,
              "#f0f921"
             ]
            ],
            "type": "heatmapgl"
           }
          ],
          "histogram": [
           {
            "marker": {
             "pattern": {
              "fillmode": "overlay",
              "size": 10,
              "solidity": 0.2
             }
            },
            "type": "histogram"
           }
          ],
          "histogram2d": [
           {
            "colorbar": {
             "outlinewidth": 0,
             "ticks": ""
            },
            "colorscale": [
             [
              0,
              "#0d0887"
             ],
             [
              0.1111111111111111,
              "#46039f"
             ],
             [
              0.2222222222222222,
              "#7201a8"
             ],
             [
              0.3333333333333333,
              "#9c179e"
             ],
             [
              0.4444444444444444,
              "#bd3786"
             ],
             [
              0.5555555555555556,
              "#d8576b"
             ],
             [
              0.6666666666666666,
              "#ed7953"
             ],
             [
              0.7777777777777778,
              "#fb9f3a"
             ],
             [
              0.8888888888888888,
              "#fdca26"
             ],
             [
              1,
              "#f0f921"
             ]
            ],
            "type": "histogram2d"
           }
          ],
          "histogram2dcontour": [
           {
            "colorbar": {
             "outlinewidth": 0,
             "ticks": ""
            },
            "colorscale": [
             [
              0,
              "#0d0887"
             ],
             [
              0.1111111111111111,
              "#46039f"
             ],
             [
              0.2222222222222222,
              "#7201a8"
             ],
             [
              0.3333333333333333,
              "#9c179e"
             ],
             [
              0.4444444444444444,
              "#bd3786"
             ],
             [
              0.5555555555555556,
              "#d8576b"
             ],
             [
              0.6666666666666666,
              "#ed7953"
             ],
             [
              0.7777777777777778,
              "#fb9f3a"
             ],
             [
              0.8888888888888888,
              "#fdca26"
             ],
             [
              1,
              "#f0f921"
             ]
            ],
            "type": "histogram2dcontour"
           }
          ],
          "mesh3d": [
           {
            "colorbar": {
             "outlinewidth": 0,
             "ticks": ""
            },
            "type": "mesh3d"
           }
          ],
          "parcoords": [
           {
            "line": {
             "colorbar": {
              "outlinewidth": 0,
              "ticks": ""
             }
            },
            "type": "parcoords"
           }
          ],
          "pie": [
           {
            "automargin": true,
            "type": "pie"
           }
          ],
          "scatter": [
           {
            "fillpattern": {
             "fillmode": "overlay",
             "size": 10,
             "solidity": 0.2
            },
            "type": "scatter"
           }
          ],
          "scatter3d": [
           {
            "line": {
             "colorbar": {
              "outlinewidth": 0,
              "ticks": ""
             }
            },
            "marker": {
             "colorbar": {
              "outlinewidth": 0,
              "ticks": ""
             }
            },
            "type": "scatter3d"
           }
          ],
          "scattercarpet": [
           {
            "marker": {
             "colorbar": {
              "outlinewidth": 0,
              "ticks": ""
             }
            },
            "type": "scattercarpet"
           }
          ],
          "scattergeo": [
           {
            "marker": {
             "colorbar": {
              "outlinewidth": 0,
              "ticks": ""
             }
            },
            "type": "scattergeo"
           }
          ],
          "scattergl": [
           {
            "marker": {
             "colorbar": {
              "outlinewidth": 0,
              "ticks": ""
             }
            },
            "type": "scattergl"
           }
          ],
          "scattermapbox": [
           {
            "marker": {
             "colorbar": {
              "outlinewidth": 0,
              "ticks": ""
             }
            },
            "type": "scattermapbox"
           }
          ],
          "scatterpolar": [
           {
            "marker": {
             "colorbar": {
              "outlinewidth": 0,
              "ticks": ""
             }
            },
            "type": "scatterpolar"
           }
          ],
          "scatterpolargl": [
           {
            "marker": {
             "colorbar": {
              "outlinewidth": 0,
              "ticks": ""
             }
            },
            "type": "scatterpolargl"
           }
          ],
          "scatterternary": [
           {
            "marker": {
             "colorbar": {
              "outlinewidth": 0,
              "ticks": ""
             }
            },
            "type": "scatterternary"
           }
          ],
          "surface": [
           {
            "colorbar": {
             "outlinewidth": 0,
             "ticks": ""
            },
            "colorscale": [
             [
              0,
              "#0d0887"
             ],
             [
              0.1111111111111111,
              "#46039f"
             ],
             [
              0.2222222222222222,
              "#7201a8"
             ],
             [
              0.3333333333333333,
              "#9c179e"
             ],
             [
              0.4444444444444444,
              "#bd3786"
             ],
             [
              0.5555555555555556,
              "#d8576b"
             ],
             [
              0.6666666666666666,
              "#ed7953"
             ],
             [
              0.7777777777777778,
              "#fb9f3a"
             ],
             [
              0.8888888888888888,
              "#fdca26"
             ],
             [
              1,
              "#f0f921"
             ]
            ],
            "type": "surface"
           }
          ],
          "table": [
           {
            "cells": {
             "fill": {
              "color": "#EBF0F8"
             },
             "line": {
              "color": "white"
             }
            },
            "header": {
             "fill": {
              "color": "#C8D4E3"
             },
             "line": {
              "color": "white"
             }
            },
            "type": "table"
           }
          ]
         },
         "layout": {
          "annotationdefaults": {
           "arrowcolor": "#2a3f5f",
           "arrowhead": 0,
           "arrowwidth": 1
          },
          "autotypenumbers": "strict",
          "coloraxis": {
           "colorbar": {
            "outlinewidth": 0,
            "ticks": ""
           }
          },
          "colorscale": {
           "diverging": [
            [
             0,
             "#8e0152"
            ],
            [
             0.1,
             "#c51b7d"
            ],
            [
             0.2,
             "#de77ae"
            ],
            [
             0.3,
             "#f1b6da"
            ],
            [
             0.4,
             "#fde0ef"
            ],
            [
             0.5,
             "#f7f7f7"
            ],
            [
             0.6,
             "#e6f5d0"
            ],
            [
             0.7,
             "#b8e186"
            ],
            [
             0.8,
             "#7fbc41"
            ],
            [
             0.9,
             "#4d9221"
            ],
            [
             1,
             "#276419"
            ]
           ],
           "sequential": [
            [
             0,
             "#0d0887"
            ],
            [
             0.1111111111111111,
             "#46039f"
            ],
            [
             0.2222222222222222,
             "#7201a8"
            ],
            [
             0.3333333333333333,
             "#9c179e"
            ],
            [
             0.4444444444444444,
             "#bd3786"
            ],
            [
             0.5555555555555556,
             "#d8576b"
            ],
            [
             0.6666666666666666,
             "#ed7953"
            ],
            [
             0.7777777777777778,
             "#fb9f3a"
            ],
            [
             0.8888888888888888,
             "#fdca26"
            ],
            [
             1,
             "#f0f921"
            ]
           ],
           "sequentialminus": [
            [
             0,
             "#0d0887"
            ],
            [
             0.1111111111111111,
             "#46039f"
            ],
            [
             0.2222222222222222,
             "#7201a8"
            ],
            [
             0.3333333333333333,
             "#9c179e"
            ],
            [
             0.4444444444444444,
             "#bd3786"
            ],
            [
             0.5555555555555556,
             "#d8576b"
            ],
            [
             0.6666666666666666,
             "#ed7953"
            ],
            [
             0.7777777777777778,
             "#fb9f3a"
            ],
            [
             0.8888888888888888,
             "#fdca26"
            ],
            [
             1,
             "#f0f921"
            ]
           ]
          },
          "colorway": [
           "#636efa",
           "#EF553B",
           "#00cc96",
           "#ab63fa",
           "#FFA15A",
           "#19d3f3",
           "#FF6692",
           "#B6E880",
           "#FF97FF",
           "#FECB52"
          ],
          "font": {
           "color": "#2a3f5f"
          },
          "geo": {
           "bgcolor": "white",
           "lakecolor": "white",
           "landcolor": "#E5ECF6",
           "showlakes": true,
           "showland": true,
           "subunitcolor": "white"
          },
          "hoverlabel": {
           "align": "left"
          },
          "hovermode": "closest",
          "mapbox": {
           "style": "light"
          },
          "paper_bgcolor": "white",
          "plot_bgcolor": "#E5ECF6",
          "polar": {
           "angularaxis": {
            "gridcolor": "white",
            "linecolor": "white",
            "ticks": ""
           },
           "bgcolor": "#E5ECF6",
           "radialaxis": {
            "gridcolor": "white",
            "linecolor": "white",
            "ticks": ""
           }
          },
          "scene": {
           "xaxis": {
            "backgroundcolor": "#E5ECF6",
            "gridcolor": "white",
            "gridwidth": 2,
            "linecolor": "white",
            "showbackground": true,
            "ticks": "",
            "zerolinecolor": "white"
           },
           "yaxis": {
            "backgroundcolor": "#E5ECF6",
            "gridcolor": "white",
            "gridwidth": 2,
            "linecolor": "white",
            "showbackground": true,
            "ticks": "",
            "zerolinecolor": "white"
           },
           "zaxis": {
            "backgroundcolor": "#E5ECF6",
            "gridcolor": "white",
            "gridwidth": 2,
            "linecolor": "white",
            "showbackground": true,
            "ticks": "",
            "zerolinecolor": "white"
           }
          },
          "shapedefaults": {
           "line": {
            "color": "#2a3f5f"
           }
          },
          "ternary": {
           "aaxis": {
            "gridcolor": "white",
            "linecolor": "white",
            "ticks": ""
           },
           "baxis": {
            "gridcolor": "white",
            "linecolor": "white",
            "ticks": ""
           },
           "bgcolor": "#E5ECF6",
           "caxis": {
            "gridcolor": "white",
            "linecolor": "white",
            "ticks": ""
           }
          },
          "title": {
           "x": 0.05
          },
          "xaxis": {
           "automargin": true,
           "gridcolor": "white",
           "linecolor": "white",
           "ticks": "",
           "title": {
            "standoff": 15
           },
           "zerolinecolor": "white",
           "zerolinewidth": 2
          },
          "yaxis": {
           "automargin": true,
           "gridcolor": "white",
           "linecolor": "white",
           "ticks": "",
           "title": {
            "standoff": 15
           },
           "zerolinecolor": "white",
           "zerolinewidth": 2
          }
         }
        },
        "title": {
         "text": "Landen en hun Crime Index, inkomensongelijkheid en BNP per hoofd (2020)"
        },
        "width": 900
       }
      }
     },
     "metadata": {},
     "output_type": "display_data"
    }
   ],
   "source": [
    "print(df_plot_final['BNP/hoofd'].corr(df_plot_final['Crime Index']))\n",
    "print(df_plot_final['Income Inequality'].corr(df_plot_final['Crime Index']))\n",
    "import plotly.graph_objects as go\n",
    "\n",
    "\n",
    "trace = go.Scatter3d(\n",
    "    x=df_plot_final['BNP/hoofd'],\n",
    "    y=df_plot_final['Income Inequality'],\n",
    "    z=df_plot_final['Crime Index'],\n",
    "    mode='markers',\n",
    "    marker=dict(\n",
    "        size=6,  \n",
    "        color='red',\n",
    "        symbol='circle',\n",
    "        line=dict(color='black', width=0.5)\n",
    "    ),\n",
    "    text=df_plot_final['Country']\n",
    ")\n",
    "\n",
    "\n",
    "layout = go.Layout(\n",
    "    title='Landen en hun Crime Index, inkomensongelijkheid en BNP per hoofd (2020)',\n",
    "    scene=dict(\n",
    "        xaxis=dict(title='BNP/hoofd'),\n",
    "        yaxis=dict(title='Income Inequality'),\n",
    "        zaxis=dict(title='Crime Index'),\n",
    "    ),\n",
    "    margin=dict(l=0, r=0, b=0, t=40),\n",
    "    height=700,  \n",
    "    width=900,  \n",
    ")\n",
    "\n",
    "\n",
    "fig = go.Figure(data=[trace], layout=layout)\n",
    "\n",
    "\n",
    "fig.show()"
   ]
  },
  {
   "attachments": {},
   "cell_type": "markdown",
   "id": "45582db7",
   "metadata": {},
   "source": [
    "De bovenstaande visualisatie geeft een intrigerend beeld van de relatie tussen de variabelen crime index, BNP per hoofd en inkomensongelijkheid in verschillende landen. De y-as toont de Crime Index, de x-as toont de inkomensongelijkheid en de z-as toont het BNP per hoofd.\n",
    "\n",
    "Een gemiddelde tot sterke inverse relatie tussen het BNP per hoofd en de Crime Index wordt aangetoond door de negatieve correlatiecoëfficiënt van -0.5390810718243931. Dit betekent dat de Crime Index meestal afneemt naarmate het BNP per persoon toeneemt. Het suggereert dat hogere BNP per hoofd over het algemeen lagere criminaliteitscijfers hebben. Dit resultaat kan de hypothese ondersteunen dat economische welvaart en ontwikkeling verband houden met een afname van criminaliteit.\n",
    "\n",
    "De positieve correlatiecoëfficiënt van 0.5395336186949828 tussen de Crime Index en inkomensongelijkheid laat echter zien dat er een relatie is die gemiddeld tot sterk positief is. Dit betekent dat de Crime Index stijgt naarmate de inkomensongelijkheid toeneemt. Het wijst er op dat criminaliteit hoger is in landen met grotere inkomensongelijkheid. \n",
    "\n",
    "Bij het bekijken van de plot valt op dat de Crime Index stijgt vanaf een inkomensongelijkheid van ongeveer dertig. De Crime Index komt dan boven de 40 uit, wat wordt geclassificeerd als een hoog crimineel niveau. Dit geeft aan dat er een verband bestaat tussen criminaliteit en inkomensongelijkheid; hogere inkomensongelijkheid wordt geassocieerd met een grotere kans op criminaliteit.\n",
    "\n",
    "Bovendien kunnen we uit de plot afleiden dat alle landen met een Crime Index van hoger dan 48 voorkomen bij een BNP per hoofd van onder de $23.000. Dit suggereert dat landen met een lager BNP per hoofd en een hogere Crime Index mogelijk een groter risico hebben op criminaliteit.\n",
    "\n",
    "Kortom, de gegevens laten zien dat landen met hogere inkomensongelijkheid en lagere BNP per hoofd waarschijnlijk hogere criminaliteitsniveaus hebben. Bovendien kunnen we uit de gegevens afleiden dat hogere inkomensongelijkheid gepaard gaat met hogere criminaliteit in een land. "
   ]
  },
  {
   "attachments": {},
   "cell_type": "markdown",
   "id": "aac2625f",
   "metadata": {},
   "source": [
    "**3.2.2 De rol van de Index van de Menselijke Ontwikkeling in de criminaliteit**"
   ]
  },
  {
   "cell_type": "code",
   "execution_count": 36,
   "id": "4175a067",
   "metadata": {},
   "outputs": [
    {
     "data": {
      "application/vnd.plotly.v1+json": {
       "config": {
        "plotlyServerURL": "https://plot.ly"
       },
       "data": [
        {
         "coloraxis": "coloraxis",
         "hovertemplate": "Human Development Index=%{x}<br>Crime Index=%{y}<br>count=%{z}<extra></extra>",
         "name": "",
         "type": "histogram2d",
         "x": [
          0.695,
          0.56,
          0.727,
          0.483,
          0.621,
          0.758,
          0.721,
          0.672,
          0.713,
          0.633,
          0.59,
          0.762,
          0.655,
          0.535,
          0.815,
          0.703,
          0.84,
          0.578,
          0.764,
          0.737,
          0.6,
          0.635,
          0.806,
          0.548,
          0.745,
          0.524,
          0.694,
          null,
          0.816,
          0.756,
          0.814,
          0.734,
          0.713,
          0.756,
          0.821,
          0.731,
          0.596,
          0.736,
          0.73,
          0.852,
          0.498,
          0.679,
          0.777,
          0.775,
          0.632,
          0.679,
          0.92,
          0.942,
          0.898,
          0.6,
          0.734,
          0.804,
          0.801,
          0.709,
          0.766,
          0.943,
          0.654,
          0.928,
          0.924,
          0.642,
          0.889,
          0.543,
          0.726,
          0.57,
          0.71,
          0.936,
          0.737,
          0.947,
          0.826,
          0.886,
          0.723,
          0.931,
          0.78,
          0.802,
          0.794,
          0.833,
          0.911,
          0.774,
          0.802,
          0.804,
          0.871,
          0.604,
          0.849,
          0.944,
          0.959,
          0.822,
          0.879,
          0.876,
          0.924,
          0.899,
          0.73,
          0.894,
          0.939,
          0.764,
          0.917,
          0.863,
          0.857,
          0.781,
          0.83,
          0.721,
          0.824,
          0.922,
          0.939,
          0.877,
          0.87,
          0.947,
          0.938,
          0.807,
          0.855,
          0.913,
          0.957,
          0.892,
          0.757,
          0.532,
          0.923,
          0.956,
          0.913,
          0.949,
          0.827,
          0.802,
          0.912,
          0.854
         ],
         "xaxis": "x",
         "xbingroup": "x",
         "y": [
          84.36,
          80.04,
          77.29,
          76.97,
          76.65,
          68.31,
          68.15,
          67.84,
          67.2,
          66.12,
          65.74,
          65.65,
          63.82,
          63.27,
          62.74,
          62.27,
          62.26,
          61.73,
          61.04,
          59.57,
          58.86,
          58.59,
          58.55,
          57.8,
          57.47,
          56.14,
          56.13,
          56.04,
          55.59,
          54.94,
          54.81,
          54.61,
          53.47,
          53.31,
          53.02,
          52.66,
          52.18,
          50.41,
          49.6,
          49.6,
          49.23,
          48.97,
          48.91,
          48.84,
          48.64,
          48,
          47.7,
          47.43,
          47.37,
          46.93,
          46.65,
          46.41,
          46.2,
          46.06,
          46.03,
          45.68,
          45.54,
          45.29,
          44.54,
          44.42,
          44.24,
          44.18,
          44.07,
          43.22,
          42.22,
          42.19,
          41.68,
          41.67,
          41.56,
          41.3,
          40.83,
          40.64,
          40.23,
          40.01,
          39.86,
          39.5,
          39.37,
          38.61,
          38.55,
          37.73,
          37.43,
          35.61,
          35.23,
          35.14,
          34.62,
          34.57,
          33.88,
          33.13,
          32.75,
          32.33,
          32.12,
          31.57,
          31.53,
          31.18,
          30.44,
          29.83,
          29.81,
          29.02,
          28.75,
          28.62,
          27.82,
          27.33,
          27.15,
          26.86,
          26.68,
          26.09,
          25.53,
          25.02,
          24.67,
          24.43,
          23.7,
          23.56,
          22.69,
          22.04,
          21.67,
          21.58,
          20.95,
          20.91,
          20.62,
          20.5,
          15.45,
          11.9
         ],
         "yaxis": "y",
         "ybingroup": "y"
        }
       ],
       "layout": {
        "annotations": [
         {
          "font": {
           "size": 13
          },
          "showarrow": false,
          "text": "correlatiecoëfficiënt: -0.5738010593076646",
          "x": 1.055,
          "xref": "paper",
          "y": -0.25,
          "yref": "paper"
         }
        ],
        "coloraxis": {
         "colorbar": {
          "title": {
           "text": "count"
          }
         },
         "colorscale": [
          [
           0,
           "#0d0887"
          ],
          [
           0.1111111111111111,
           "#46039f"
          ],
          [
           0.2222222222222222,
           "#7201a8"
          ],
          [
           0.3333333333333333,
           "#9c179e"
          ],
          [
           0.4444444444444444,
           "#bd3786"
          ],
          [
           0.5555555555555556,
           "#d8576b"
          ],
          [
           0.6666666666666666,
           "#ed7953"
          ],
          [
           0.7777777777777778,
           "#fb9f3a"
          ],
          [
           0.8888888888888888,
           "#fdca26"
          ],
          [
           1,
           "#f0f921"
          ]
         ]
        },
        "legend": {
         "tracegroupgap": 0
        },
        "template": {
         "data": {
          "bar": [
           {
            "error_x": {
             "color": "#2a3f5f"
            },
            "error_y": {
             "color": "#2a3f5f"
            },
            "marker": {
             "line": {
              "color": "#E5ECF6",
              "width": 0.5
             },
             "pattern": {
              "fillmode": "overlay",
              "size": 10,
              "solidity": 0.2
             }
            },
            "type": "bar"
           }
          ],
          "barpolar": [
           {
            "marker": {
             "line": {
              "color": "#E5ECF6",
              "width": 0.5
             },
             "pattern": {
              "fillmode": "overlay",
              "size": 10,
              "solidity": 0.2
             }
            },
            "type": "barpolar"
           }
          ],
          "carpet": [
           {
            "aaxis": {
             "endlinecolor": "#2a3f5f",
             "gridcolor": "white",
             "linecolor": "white",
             "minorgridcolor": "white",
             "startlinecolor": "#2a3f5f"
            },
            "baxis": {
             "endlinecolor": "#2a3f5f",
             "gridcolor": "white",
             "linecolor": "white",
             "minorgridcolor": "white",
             "startlinecolor": "#2a3f5f"
            },
            "type": "carpet"
           }
          ],
          "choropleth": [
           {
            "colorbar": {
             "outlinewidth": 0,
             "ticks": ""
            },
            "type": "choropleth"
           }
          ],
          "contour": [
           {
            "colorbar": {
             "outlinewidth": 0,
             "ticks": ""
            },
            "colorscale": [
             [
              0,
              "#0d0887"
             ],
             [
              0.1111111111111111,
              "#46039f"
             ],
             [
              0.2222222222222222,
              "#7201a8"
             ],
             [
              0.3333333333333333,
              "#9c179e"
             ],
             [
              0.4444444444444444,
              "#bd3786"
             ],
             [
              0.5555555555555556,
              "#d8576b"
             ],
             [
              0.6666666666666666,
              "#ed7953"
             ],
             [
              0.7777777777777778,
              "#fb9f3a"
             ],
             [
              0.8888888888888888,
              "#fdca26"
             ],
             [
              1,
              "#f0f921"
             ]
            ],
            "type": "contour"
           }
          ],
          "contourcarpet": [
           {
            "colorbar": {
             "outlinewidth": 0,
             "ticks": ""
            },
            "type": "contourcarpet"
           }
          ],
          "heatmap": [
           {
            "colorbar": {
             "outlinewidth": 0,
             "ticks": ""
            },
            "colorscale": [
             [
              0,
              "#0d0887"
             ],
             [
              0.1111111111111111,
              "#46039f"
             ],
             [
              0.2222222222222222,
              "#7201a8"
             ],
             [
              0.3333333333333333,
              "#9c179e"
             ],
             [
              0.4444444444444444,
              "#bd3786"
             ],
             [
              0.5555555555555556,
              "#d8576b"
             ],
             [
              0.6666666666666666,
              "#ed7953"
             ],
             [
              0.7777777777777778,
              "#fb9f3a"
             ],
             [
              0.8888888888888888,
              "#fdca26"
             ],
             [
              1,
              "#f0f921"
             ]
            ],
            "type": "heatmap"
           }
          ],
          "heatmapgl": [
           {
            "colorbar": {
             "outlinewidth": 0,
             "ticks": ""
            },
            "colorscale": [
             [
              0,
              "#0d0887"
             ],
             [
              0.1111111111111111,
              "#46039f"
             ],
             [
              0.2222222222222222,
              "#7201a8"
             ],
             [
              0.3333333333333333,
              "#9c179e"
             ],
             [
              0.4444444444444444,
              "#bd3786"
             ],
             [
              0.5555555555555556,
              "#d8576b"
             ],
             [
              0.6666666666666666,
              "#ed7953"
             ],
             [
              0.7777777777777778,
              "#fb9f3a"
             ],
             [
              0.8888888888888888,
              "#fdca26"
             ],
             [
              1,
              "#f0f921"
             ]
            ],
            "type": "heatmapgl"
           }
          ],
          "histogram": [
           {
            "marker": {
             "pattern": {
              "fillmode": "overlay",
              "size": 10,
              "solidity": 0.2
             }
            },
            "type": "histogram"
           }
          ],
          "histogram2d": [
           {
            "colorbar": {
             "outlinewidth": 0,
             "ticks": ""
            },
            "colorscale": [
             [
              0,
              "#0d0887"
             ],
             [
              0.1111111111111111,
              "#46039f"
             ],
             [
              0.2222222222222222,
              "#7201a8"
             ],
             [
              0.3333333333333333,
              "#9c179e"
             ],
             [
              0.4444444444444444,
              "#bd3786"
             ],
             [
              0.5555555555555556,
              "#d8576b"
             ],
             [
              0.6666666666666666,
              "#ed7953"
             ],
             [
              0.7777777777777778,
              "#fb9f3a"
             ],
             [
              0.8888888888888888,
              "#fdca26"
             ],
             [
              1,
              "#f0f921"
             ]
            ],
            "type": "histogram2d"
           }
          ],
          "histogram2dcontour": [
           {
            "colorbar": {
             "outlinewidth": 0,
             "ticks": ""
            },
            "colorscale": [
             [
              0,
              "#0d0887"
             ],
             [
              0.1111111111111111,
              "#46039f"
             ],
             [
              0.2222222222222222,
              "#7201a8"
             ],
             [
              0.3333333333333333,
              "#9c179e"
             ],
             [
              0.4444444444444444,
              "#bd3786"
             ],
             [
              0.5555555555555556,
              "#d8576b"
             ],
             [
              0.6666666666666666,
              "#ed7953"
             ],
             [
              0.7777777777777778,
              "#fb9f3a"
             ],
             [
              0.8888888888888888,
              "#fdca26"
             ],
             [
              1,
              "#f0f921"
             ]
            ],
            "type": "histogram2dcontour"
           }
          ],
          "mesh3d": [
           {
            "colorbar": {
             "outlinewidth": 0,
             "ticks": ""
            },
            "type": "mesh3d"
           }
          ],
          "parcoords": [
           {
            "line": {
             "colorbar": {
              "outlinewidth": 0,
              "ticks": ""
             }
            },
            "type": "parcoords"
           }
          ],
          "pie": [
           {
            "automargin": true,
            "type": "pie"
           }
          ],
          "scatter": [
           {
            "fillpattern": {
             "fillmode": "overlay",
             "size": 10,
             "solidity": 0.2
            },
            "type": "scatter"
           }
          ],
          "scatter3d": [
           {
            "line": {
             "colorbar": {
              "outlinewidth": 0,
              "ticks": ""
             }
            },
            "marker": {
             "colorbar": {
              "outlinewidth": 0,
              "ticks": ""
             }
            },
            "type": "scatter3d"
           }
          ],
          "scattercarpet": [
           {
            "marker": {
             "colorbar": {
              "outlinewidth": 0,
              "ticks": ""
             }
            },
            "type": "scattercarpet"
           }
          ],
          "scattergeo": [
           {
            "marker": {
             "colorbar": {
              "outlinewidth": 0,
              "ticks": ""
             }
            },
            "type": "scattergeo"
           }
          ],
          "scattergl": [
           {
            "marker": {
             "colorbar": {
              "outlinewidth": 0,
              "ticks": ""
             }
            },
            "type": "scattergl"
           }
          ],
          "scattermapbox": [
           {
            "marker": {
             "colorbar": {
              "outlinewidth": 0,
              "ticks": ""
             }
            },
            "type": "scattermapbox"
           }
          ],
          "scatterpolar": [
           {
            "marker": {
             "colorbar": {
              "outlinewidth": 0,
              "ticks": ""
             }
            },
            "type": "scatterpolar"
           }
          ],
          "scatterpolargl": [
           {
            "marker": {
             "colorbar": {
              "outlinewidth": 0,
              "ticks": ""
             }
            },
            "type": "scatterpolargl"
           }
          ],
          "scatterternary": [
           {
            "marker": {
             "colorbar": {
              "outlinewidth": 0,
              "ticks": ""
             }
            },
            "type": "scatterternary"
           }
          ],
          "surface": [
           {
            "colorbar": {
             "outlinewidth": 0,
             "ticks": ""
            },
            "colorscale": [
             [
              0,
              "#0d0887"
             ],
             [
              0.1111111111111111,
              "#46039f"
             ],
             [
              0.2222222222222222,
              "#7201a8"
             ],
             [
              0.3333333333333333,
              "#9c179e"
             ],
             [
              0.4444444444444444,
              "#bd3786"
             ],
             [
              0.5555555555555556,
              "#d8576b"
             ],
             [
              0.6666666666666666,
              "#ed7953"
             ],
             [
              0.7777777777777778,
              "#fb9f3a"
             ],
             [
              0.8888888888888888,
              "#fdca26"
             ],
             [
              1,
              "#f0f921"
             ]
            ],
            "type": "surface"
           }
          ],
          "table": [
           {
            "cells": {
             "fill": {
              "color": "#EBF0F8"
             },
             "line": {
              "color": "white"
             }
            },
            "header": {
             "fill": {
              "color": "#C8D4E3"
             },
             "line": {
              "color": "white"
             }
            },
            "type": "table"
           }
          ]
         },
         "layout": {
          "annotationdefaults": {
           "arrowcolor": "#2a3f5f",
           "arrowhead": 0,
           "arrowwidth": 1
          },
          "autotypenumbers": "strict",
          "coloraxis": {
           "colorbar": {
            "outlinewidth": 0,
            "ticks": ""
           }
          },
          "colorscale": {
           "diverging": [
            [
             0,
             "#8e0152"
            ],
            [
             0.1,
             "#c51b7d"
            ],
            [
             0.2,
             "#de77ae"
            ],
            [
             0.3,
             "#f1b6da"
            ],
            [
             0.4,
             "#fde0ef"
            ],
            [
             0.5,
             "#f7f7f7"
            ],
            [
             0.6,
             "#e6f5d0"
            ],
            [
             0.7,
             "#b8e186"
            ],
            [
             0.8,
             "#7fbc41"
            ],
            [
             0.9,
             "#4d9221"
            ],
            [
             1,
             "#276419"
            ]
           ],
           "sequential": [
            [
             0,
             "#0d0887"
            ],
            [
             0.1111111111111111,
             "#46039f"
            ],
            [
             0.2222222222222222,
             "#7201a8"
            ],
            [
             0.3333333333333333,
             "#9c179e"
            ],
            [
             0.4444444444444444,
             "#bd3786"
            ],
            [
             0.5555555555555556,
             "#d8576b"
            ],
            [
             0.6666666666666666,
             "#ed7953"
            ],
            [
             0.7777777777777778,
             "#fb9f3a"
            ],
            [
             0.8888888888888888,
             "#fdca26"
            ],
            [
             1,
             "#f0f921"
            ]
           ],
           "sequentialminus": [
            [
             0,
             "#0d0887"
            ],
            [
             0.1111111111111111,
             "#46039f"
            ],
            [
             0.2222222222222222,
             "#7201a8"
            ],
            [
             0.3333333333333333,
             "#9c179e"
            ],
            [
             0.4444444444444444,
             "#bd3786"
            ],
            [
             0.5555555555555556,
             "#d8576b"
            ],
            [
             0.6666666666666666,
             "#ed7953"
            ],
            [
             0.7777777777777778,
             "#fb9f3a"
            ],
            [
             0.8888888888888888,
             "#fdca26"
            ],
            [
             1,
             "#f0f921"
            ]
           ]
          },
          "colorway": [
           "#636efa",
           "#EF553B",
           "#00cc96",
           "#ab63fa",
           "#FFA15A",
           "#19d3f3",
           "#FF6692",
           "#B6E880",
           "#FF97FF",
           "#FECB52"
          ],
          "font": {
           "color": "#2a3f5f"
          },
          "geo": {
           "bgcolor": "white",
           "lakecolor": "white",
           "landcolor": "#E5ECF6",
           "showlakes": true,
           "showland": true,
           "subunitcolor": "white"
          },
          "hoverlabel": {
           "align": "left"
          },
          "hovermode": "closest",
          "mapbox": {
           "style": "light"
          },
          "paper_bgcolor": "white",
          "plot_bgcolor": "#E5ECF6",
          "polar": {
           "angularaxis": {
            "gridcolor": "white",
            "linecolor": "white",
            "ticks": ""
           },
           "bgcolor": "#E5ECF6",
           "radialaxis": {
            "gridcolor": "white",
            "linecolor": "white",
            "ticks": ""
           }
          },
          "scene": {
           "xaxis": {
            "backgroundcolor": "#E5ECF6",
            "gridcolor": "white",
            "gridwidth": 2,
            "linecolor": "white",
            "showbackground": true,
            "ticks": "",
            "zerolinecolor": "white"
           },
           "yaxis": {
            "backgroundcolor": "#E5ECF6",
            "gridcolor": "white",
            "gridwidth": 2,
            "linecolor": "white",
            "showbackground": true,
            "ticks": "",
            "zerolinecolor": "white"
           },
           "zaxis": {
            "backgroundcolor": "#E5ECF6",
            "gridcolor": "white",
            "gridwidth": 2,
            "linecolor": "white",
            "showbackground": true,
            "ticks": "",
            "zerolinecolor": "white"
           }
          },
          "shapedefaults": {
           "line": {
            "color": "#2a3f5f"
           }
          },
          "ternary": {
           "aaxis": {
            "gridcolor": "white",
            "linecolor": "white",
            "ticks": ""
           },
           "baxis": {
            "gridcolor": "white",
            "linecolor": "white",
            "ticks": ""
           },
           "bgcolor": "#E5ECF6",
           "caxis": {
            "gridcolor": "white",
            "linecolor": "white",
            "ticks": ""
           }
          },
          "title": {
           "x": 0.05
          },
          "xaxis": {
           "automargin": true,
           "gridcolor": "white",
           "linecolor": "white",
           "ticks": "",
           "title": {
            "standoff": 15
           },
           "zerolinecolor": "white",
           "zerolinewidth": 2
          },
          "yaxis": {
           "automargin": true,
           "gridcolor": "white",
           "linecolor": "white",
           "ticks": "",
           "title": {
            "standoff": 15
           },
           "zerolinecolor": "white",
           "zerolinewidth": 2
          }
         }
        },
        "title": {
         "text": "Crime Index vs. Human Development Index Heatmap (2020)"
        },
        "xaxis": {
         "anchor": "y",
         "domain": [
          0,
          1
         ],
         "title": {
          "text": "Human Development Index"
         }
        },
        "yaxis": {
         "anchor": "x",
         "domain": [
          0,
          1
         ],
         "title": {
          "text": "Crime Index"
         }
        }
       }
      }
     },
     "metadata": {},
     "output_type": "display_data"
    }
   ],
   "source": [
    "import pandas as pd\n",
    "import plotly.express as px\n",
    "\n",
    "crime_index_file = 'crime_index_by_country.csv'\n",
    "HDI_File = 'Human Development Index - Full.csv'\n",
    "crime_index = pd.read_csv(crime_index_file)\n",
    "hdi_index = pd.read_csv(HDI_File)\n",
    "\n",
    "# data selecteren\n",
    "crime_data = crime_index[['Country', 'Crime Index']]\n",
    "hdi_data = hdi_index[['Country', 'Human Development Index (2020)']]\n",
    "\n",
    "# Datasets combineren\n",
    "merged_data = pd.merge(crime_data, hdi_data, on='Country', how='inner')\n",
    "\n",
    "# De heatmap\n",
    "fig = px.density_heatmap(merged_data, x='Human Development Index (2020)', y='Crime Index',\n",
    "                         labels={'Human Development Index (2020)': 'Human Development Index',\n",
    "                                 'Crime Index': 'Crime Index'},\n",
    "                         title='Crime Index vs. Human Development Index Heatmap (2020)')\n",
    "\n",
    "# Bereken de correlatie\n",
    "correlation = merged_data['Crime Index'].corr(merged_data['Human Development Index (2020)'])\n",
    "\n",
    "# Correlatie laten zien in de grafiek\n",
    "description = \"correlatiecoëfficiënt: {}\".format(correlation)\n",
    "fig.add_annotation(text=description, xref=\"paper\", yref=\"paper\", x=1.055, y=-0.25, showarrow=False, font=dict(size=13))\n",
    "\n",
    "fig.show()"
   ]
  },
  {
   "attachments": {},
   "cell_type": "markdown",
   "id": "c6c901e1",
   "metadata": {},
   "source": [
    "Bovenstaande heatmap toont een duidelijk verband tussen de Human Development Index (HDI) en de criminaliteitsindex. De negatieve correlatie \n",
    "-0.5738010593076646 laat duidelijk zien dat er een negatief verband bestaat. Hogere HDI-waarden worden geassocieerd met lagere criminaliteitsniveaus, terwijl lagere HDI-waarden gepaard gaan met hogere criminaliteitsniveaus. Dit onderstreept het belang van een hogere HDI bij het verminderen van criminaliteit en vice versa.\n",
    "\n",
    "Mogelijk komt dit doordat mensen in landen met een lage menselijke ontwikkeling een slechter toekomstbeeld hebben en sneller de criminele weg inslaan in de hoop op verbetering. Dit benadrukt het belang van investeren in gezondheid, onderwijs en levensstandaard als strategie om criminaliteit te verminderen.\n",
    "\n",
    "Een hogere HDI zorgt voor een lagere crime index, mede omdat landen met een betere menselijke ontwikkeling over het algemeen betere sociale en economische kansen bieden aan hun mede inwoners. Dit vermindert de motivatie en noodzaak voor mensen om zich bezig te houden met criminele activiteiten.\n",
    "\n",
    "Kortom, het is duidelijk volgens de heatmap en de correlatie coëfficient dat er een negatief verband zit tussen de menselijke ontwikkeling en de criminaliteitsindex. Ook is het volgens de argumentatie een logische conclusie om te trekken. Dit laat zien dat zowel de economische aspecten, de levensverwachting en het onderwijs allemaal een rol spelen in de criminaliteitscijfers van een land."
   ]
  },
  {
   "attachments": {},
   "cell_type": "markdown",
   "id": "9676da15",
   "metadata": {},
   "source": [
    "# 4. Reflectie"
   ]
  },
  {
   "attachments": {},
   "cell_type": "markdown",
   "id": "2a4fbe4c",
   "metadata": {},
   "source": [
    "Naar aanleiding van de feedback presentatie van 27 juni zijn er een aantal aanpassingen gedaan aan dit artikel. In eerste instantie waren alle plots gemaakt in matplotlib. Op aanraden van medestudenten en de TA is dit aangepast naar plotly. Dit geeft meteen een betere en heldere weergave van de analyses. Daarnaast is er bij 'datasets en voorbereiding' een datahead frame toegevoegd. Hierdoor krijgt de lezer te zien hoe de datasets zijn opgebouwd.\n",
    "\n",
    "Het eerste perspectief werd aanvankelijk weergeven met een lijn grafiek. Dit is vervangen door een staafdiagram omdat het hier gaat om telkens 2 categorieën namelijk het aantal jaren onderwijs en de criminaliteitsgraad. De staafdiagram weergeeft de hoogte van de variabelen op overzichtelijke wijze. \n",
    "\n",
    "Bij de spreidingsdiagram over levensverwachting en criminaliteit is een\n",
    "trendlijn toegevoegd om de relatie tussen de variabelen duidelijker weer te geven. Ook is er\n",
    "meer tekst toegevoegd die wordt ondersteund door het plaatje, waardoor de bevindingen beter worden toegelicht.\n",
    "De toevoeging van de trendlijn helpt bij het visualiseren van de algemene trend tussen de Crime Index en de Levensverwachting bij Geboorte. Dit biedt een visuele ondersteuning voor de matige negatieve correlatie die wordt beschreven. Bovendien is er meer tekst toegevoegd die specifiek verwijst naar het plaatje en de observaties ervan, waardoor de bevindingen beter worden onderbouwd.\n",
    "\n",
    "Daarnaast is de diagram met de variabelen BNP/hoofd, income inequality en crime index aangepast. Deze diagram was aan het begin wat onoverzichtelijk door de slechte representaties van de 3 variabelen in 1 diagram. Hiervoor is een 3D-scatterplot in de plaats gekomen. Dit geeft een beter inzicht in de variabelen en heeft een interactiemogelijkheid voor de lezer. Het overzicht is nu duidelijker te zien, waardoor het makkelijker werd om een argumentatie erover te geven.\n",
    "\n",
    "Als laatste is de scatterplot van de HDI en de crime index veranderd. Deze was echter te simpel en toonde de correlatie te matig, waardoor het te onduidelijk was. Hiervoor is nu een heatmap in de plaats gekomen, die de correlatie beter aangeeft en daardoor de argumentatie versterkt. Ook zijn de bevindingen over de heatmap breder uitgelegd, zodat het verhaal duidelijker wordt."
   ]
  },
  {
   "attachments": {},
   "cell_type": "markdown",
   "id": "65408dd9",
   "metadata": {},
   "source": [
    "# 5. Taakverdeling"
   ]
  },
  {
   "attachments": {},
   "cell_type": "markdown",
   "id": "b4eceb32",
   "metadata": {},
   "source": [
    "De taken voor dit project zijn gelijkmatig verdeeld. Alle teamleden hebben gewerkt met beide datasets. De perspectieven zijn opgedeeld in meerdere argumenten per perspectief. Hamsa en Iyoas zijn voornamelijk bezig geweest met het eerste perspectief namelijk het sociaal-maatschappelijke perspectief. De inleiding en bijbehorende figuren is geschreven door Hamsa en de 'Datasets en voorbereiding' is geschreven door Iyoas. Het eerste perspectief kent 2 argumenten, het eerste argument (3.1.1) is geschreven door Hamsa en het tweede argument (3.1.2) is geschreven door Iyoas. \n",
    "\n",
    "Jarno en Luca hebben gewerkt aan het tweede argument met betrekking tot het economische perspectief. Luca heeft het eerste argument van het tweede perspectief geschreven (3.1.3) en Jarno het tweede argument van het tweede perspectief (3.1.4). Tot slot is de reflectie en bronnenlijst het werk van alle teamleden."
   ]
  },
  {
   "attachments": {},
   "cell_type": "markdown",
   "id": "1405eea5",
   "metadata": {},
   "source": [
    "# 6. Bronnen"
   ]
  },
  {
   "attachments": {},
   "cell_type": "markdown",
   "id": "2bfeaf5a",
   "metadata": {},
   "source": [
    "**Introductie**\n",
    "\n",
    "World crime trends and emerging issues and responses in the field of crime prevention and criminal justice. (2015). _In Official records (pp. 92–95). United Nations._ https://doi.org/10.18356/76a7e412-en\n",
    "\n",
    "**Perspectief 1 (argument 1)**\n",
    "\n",
    "Groot, W., & Van Den Brink, H. M. (2010). _The effects of education on crime. Applied Economics, 42(3), 279–289._ https://doi.org/10.1080/00036840701604412\n",
    "\n",
    "**Gehele opdracht**\n",
    "\n",
    "_Chatgpt_. (2023). https://chat.openai.com"
   ]
  }
 ],
 "metadata": {
  "kernelspec": {
   "display_name": "Python 3 (ipykernel)",
   "language": "python",
   "name": "python3"
  },
  "language_info": {
   "codemirror_mode": {
    "name": "ipython",
    "version": 3
   },
   "file_extension": ".py",
   "mimetype": "text/x-python",
   "name": "python",
   "nbconvert_exporter": "python",
   "pygments_lexer": "ipython3",
   "version": "3.11.0"
  },
  "vscode": {
   "interpreter": {
    "hash": "916dbcbb3f70747c44a77c7bcd40155683ae19c65e1c03b4aa3499c5328201f1"
   }
  }
 },
 "nbformat": 4,
 "nbformat_minor": 5
}
